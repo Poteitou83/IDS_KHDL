{
 "cells": [
  {
   "cell_type": "code",
   "execution_count": 117,
   "metadata": {},
   "outputs": [],
   "source": [
    "import warnings\n",
    "warnings.filterwarnings(\"ignore\")"
   ]
  },
  {
   "cell_type": "code",
   "execution_count": 118,
   "metadata": {},
   "outputs": [],
   "source": [
    "import numpy as np\n",
    "import pandas as pd\n",
    "import seaborn as sns\n",
    "import matplotlib.pyplot as plt\n",
    "from sklearn.preprocessing import LabelEncoder\n",
    "from sklearn.model_selection import train_test_split\n",
    "from sklearn.metrics import classification_report,confusion_matrix,accuracy_score,precision_recall_fscore_support\n",
    "from sklearn.metrics import f1_score,roc_auc_score\n",
    "from sklearn.ensemble import RandomForestClassifier,ExtraTreesClassifier\n",
    "from sklearn.tree import DecisionTreeClassifier\n",
    "import xgboost as xgb\n",
    "from xgboost import plot_importance"
   ]
  },
  {
   "cell_type": "code",
   "execution_count": 119,
   "metadata": {},
   "outputs": [],
   "source": [
    "#Read dataset\n",
    "df = pd.read_csv('./data/data.csv') \n"
   ]
  },
  {
   "cell_type": "code",
   "execution_count": 120,
   "metadata": {},
   "outputs": [
    {
     "data": {
      "text/html": [
       "<div>\n",
       "<style scoped>\n",
       "    .dataframe tbody tr th:only-of-type {\n",
       "        vertical-align: middle;\n",
       "    }\n",
       "\n",
       "    .dataframe tbody tr th {\n",
       "        vertical-align: top;\n",
       "    }\n",
       "\n",
       "    .dataframe thead th {\n",
       "        text-align: right;\n",
       "    }\n",
       "</style>\n",
       "<table border=\"1\" class=\"dataframe\">\n",
       "  <thead>\n",
       "    <tr style=\"text-align: right;\">\n",
       "      <th></th>\n",
       "      <th>Dst Port</th>\n",
       "      <th>Protocol</th>\n",
       "      <th>Timestamp</th>\n",
       "      <th>Flow Duration</th>\n",
       "      <th>Tot Fwd Pkts</th>\n",
       "      <th>Tot Bwd Pkts</th>\n",
       "      <th>TotLen Fwd Pkts</th>\n",
       "      <th>TotLen Bwd Pkts</th>\n",
       "      <th>Fwd Pkt Len Max</th>\n",
       "      <th>Fwd Pkt Len Min</th>\n",
       "      <th>...</th>\n",
       "      <th>Fwd Seg Size Min</th>\n",
       "      <th>Active Mean</th>\n",
       "      <th>Active Std</th>\n",
       "      <th>Active Max</th>\n",
       "      <th>Active Min</th>\n",
       "      <th>Idle Mean</th>\n",
       "      <th>Idle Std</th>\n",
       "      <th>Idle Max</th>\n",
       "      <th>Idle Min</th>\n",
       "      <th>Label</th>\n",
       "    </tr>\n",
       "  </thead>\n",
       "  <tbody>\n",
       "    <tr>\n",
       "      <th>0</th>\n",
       "      <td>61954</td>\n",
       "      <td>6</td>\n",
       "      <td>02/03/2018 04:47:12</td>\n",
       "      <td>165</td>\n",
       "      <td>2</td>\n",
       "      <td>0</td>\n",
       "      <td>0</td>\n",
       "      <td>0.0</td>\n",
       "      <td>0</td>\n",
       "      <td>0</td>\n",
       "      <td>...</td>\n",
       "      <td>20</td>\n",
       "      <td>0.0</td>\n",
       "      <td>0.0</td>\n",
       "      <td>0.0</td>\n",
       "      <td>0.0</td>\n",
       "      <td>0.0</td>\n",
       "      <td>0.0</td>\n",
       "      <td>0.0</td>\n",
       "      <td>0.0</td>\n",
       "      <td>Benign</td>\n",
       "    </tr>\n",
       "    <tr>\n",
       "      <th>1</th>\n",
       "      <td>80</td>\n",
       "      <td>6</td>\n",
       "      <td>02/03/2018 01:49:05</td>\n",
       "      <td>5727100</td>\n",
       "      <td>4</td>\n",
       "      <td>4</td>\n",
       "      <td>97</td>\n",
       "      <td>231.0</td>\n",
       "      <td>97</td>\n",
       "      <td>0</td>\n",
       "      <td>...</td>\n",
       "      <td>20</td>\n",
       "      <td>0.0</td>\n",
       "      <td>0.0</td>\n",
       "      <td>0.0</td>\n",
       "      <td>0.0</td>\n",
       "      <td>0.0</td>\n",
       "      <td>0.0</td>\n",
       "      <td>0.0</td>\n",
       "      <td>0.0</td>\n",
       "      <td>Benign</td>\n",
       "    </tr>\n",
       "    <tr>\n",
       "      <th>2</th>\n",
       "      <td>3389</td>\n",
       "      <td>6</td>\n",
       "      <td>02/03/2018 04:07:56</td>\n",
       "      <td>4053796</td>\n",
       "      <td>14</td>\n",
       "      <td>8</td>\n",
       "      <td>1456</td>\n",
       "      <td>1731.0</td>\n",
       "      <td>741</td>\n",
       "      <td>0</td>\n",
       "      <td>...</td>\n",
       "      <td>20</td>\n",
       "      <td>0.0</td>\n",
       "      <td>0.0</td>\n",
       "      <td>0.0</td>\n",
       "      <td>0.0</td>\n",
       "      <td>0.0</td>\n",
       "      <td>0.0</td>\n",
       "      <td>0.0</td>\n",
       "      <td>0.0</td>\n",
       "      <td>Benign</td>\n",
       "    </tr>\n",
       "    <tr>\n",
       "      <th>3</th>\n",
       "      <td>445</td>\n",
       "      <td>6</td>\n",
       "      <td>02/03/2018 03:00:59</td>\n",
       "      <td>833502</td>\n",
       "      <td>7</td>\n",
       "      <td>5</td>\n",
       "      <td>364</td>\n",
       "      <td>582.0</td>\n",
       "      <td>103</td>\n",
       "      <td>0</td>\n",
       "      <td>...</td>\n",
       "      <td>20</td>\n",
       "      <td>0.0</td>\n",
       "      <td>0.0</td>\n",
       "      <td>0.0</td>\n",
       "      <td>0.0</td>\n",
       "      <td>0.0</td>\n",
       "      <td>0.0</td>\n",
       "      <td>0.0</td>\n",
       "      <td>0.0</td>\n",
       "      <td>Benign</td>\n",
       "    </tr>\n",
       "    <tr>\n",
       "      <th>4</th>\n",
       "      <td>53</td>\n",
       "      <td>17</td>\n",
       "      <td>02/03/2018 01:43:57</td>\n",
       "      <td>601</td>\n",
       "      <td>1</td>\n",
       "      <td>1</td>\n",
       "      <td>53</td>\n",
       "      <td>85.0</td>\n",
       "      <td>53</td>\n",
       "      <td>53</td>\n",
       "      <td>...</td>\n",
       "      <td>8</td>\n",
       "      <td>0.0</td>\n",
       "      <td>0.0</td>\n",
       "      <td>0.0</td>\n",
       "      <td>0.0</td>\n",
       "      <td>0.0</td>\n",
       "      <td>0.0</td>\n",
       "      <td>0.0</td>\n",
       "      <td>0.0</td>\n",
       "      <td>Benign</td>\n",
       "    </tr>\n",
       "    <tr>\n",
       "      <th>...</th>\n",
       "      <td>...</td>\n",
       "      <td>...</td>\n",
       "      <td>...</td>\n",
       "      <td>...</td>\n",
       "      <td>...</td>\n",
       "      <td>...</td>\n",
       "      <td>...</td>\n",
       "      <td>...</td>\n",
       "      <td>...</td>\n",
       "      <td>...</td>\n",
       "      <td>...</td>\n",
       "      <td>...</td>\n",
       "      <td>...</td>\n",
       "      <td>...</td>\n",
       "      <td>...</td>\n",
       "      <td>...</td>\n",
       "      <td>...</td>\n",
       "      <td>...</td>\n",
       "      <td>...</td>\n",
       "      <td>...</td>\n",
       "      <td>...</td>\n",
       "    </tr>\n",
       "    <tr>\n",
       "      <th>9995</th>\n",
       "      <td>22</td>\n",
       "      <td>6</td>\n",
       "      <td>14/02/2018 03:11:10</td>\n",
       "      <td>7</td>\n",
       "      <td>1</td>\n",
       "      <td>1</td>\n",
       "      <td>0</td>\n",
       "      <td>0.0</td>\n",
       "      <td>0</td>\n",
       "      <td>0</td>\n",
       "      <td>...</td>\n",
       "      <td>32</td>\n",
       "      <td>0.0</td>\n",
       "      <td>0.0</td>\n",
       "      <td>0.0</td>\n",
       "      <td>0.0</td>\n",
       "      <td>0.0</td>\n",
       "      <td>0.0</td>\n",
       "      <td>0.0</td>\n",
       "      <td>0.0</td>\n",
       "      <td>SSH-Bruteforce</td>\n",
       "    </tr>\n",
       "    <tr>\n",
       "      <th>9996</th>\n",
       "      <td>22</td>\n",
       "      <td>6</td>\n",
       "      <td>14/02/2018 03:18:34</td>\n",
       "      <td>6</td>\n",
       "      <td>1</td>\n",
       "      <td>1</td>\n",
       "      <td>0</td>\n",
       "      <td>0.0</td>\n",
       "      <td>0</td>\n",
       "      <td>0</td>\n",
       "      <td>...</td>\n",
       "      <td>32</td>\n",
       "      <td>0.0</td>\n",
       "      <td>0.0</td>\n",
       "      <td>0.0</td>\n",
       "      <td>0.0</td>\n",
       "      <td>0.0</td>\n",
       "      <td>0.0</td>\n",
       "      <td>0.0</td>\n",
       "      <td>0.0</td>\n",
       "      <td>SSH-Bruteforce</td>\n",
       "    </tr>\n",
       "    <tr>\n",
       "      <th>9997</th>\n",
       "      <td>22</td>\n",
       "      <td>6</td>\n",
       "      <td>14/02/2018 02:30:39</td>\n",
       "      <td>7</td>\n",
       "      <td>1</td>\n",
       "      <td>1</td>\n",
       "      <td>0</td>\n",
       "      <td>0.0</td>\n",
       "      <td>0</td>\n",
       "      <td>0</td>\n",
       "      <td>...</td>\n",
       "      <td>32</td>\n",
       "      <td>0.0</td>\n",
       "      <td>0.0</td>\n",
       "      <td>0.0</td>\n",
       "      <td>0.0</td>\n",
       "      <td>0.0</td>\n",
       "      <td>0.0</td>\n",
       "      <td>0.0</td>\n",
       "      <td>0.0</td>\n",
       "      <td>SSH-Bruteforce</td>\n",
       "    </tr>\n",
       "    <tr>\n",
       "      <th>9998</th>\n",
       "      <td>22</td>\n",
       "      <td>6</td>\n",
       "      <td>14/02/2018 03:22:32</td>\n",
       "      <td>6</td>\n",
       "      <td>1</td>\n",
       "      <td>1</td>\n",
       "      <td>0</td>\n",
       "      <td>0.0</td>\n",
       "      <td>0</td>\n",
       "      <td>0</td>\n",
       "      <td>...</td>\n",
       "      <td>32</td>\n",
       "      <td>0.0</td>\n",
       "      <td>0.0</td>\n",
       "      <td>0.0</td>\n",
       "      <td>0.0</td>\n",
       "      <td>0.0</td>\n",
       "      <td>0.0</td>\n",
       "      <td>0.0</td>\n",
       "      <td>0.0</td>\n",
       "      <td>SSH-Bruteforce</td>\n",
       "    </tr>\n",
       "    <tr>\n",
       "      <th>9999</th>\n",
       "      <td>22</td>\n",
       "      <td>6</td>\n",
       "      <td>14/02/2018 02:08:00</td>\n",
       "      <td>7</td>\n",
       "      <td>1</td>\n",
       "      <td>1</td>\n",
       "      <td>0</td>\n",
       "      <td>0.0</td>\n",
       "      <td>0</td>\n",
       "      <td>0</td>\n",
       "      <td>...</td>\n",
       "      <td>32</td>\n",
       "      <td>0.0</td>\n",
       "      <td>0.0</td>\n",
       "      <td>0.0</td>\n",
       "      <td>0.0</td>\n",
       "      <td>0.0</td>\n",
       "      <td>0.0</td>\n",
       "      <td>0.0</td>\n",
       "      <td>0.0</td>\n",
       "      <td>SSH-Bruteforce</td>\n",
       "    </tr>\n",
       "  </tbody>\n",
       "</table>\n",
       "<p>10000 rows × 80 columns</p>\n",
       "</div>"
      ],
      "text/plain": [
       "      Dst Port  Protocol            Timestamp  Flow Duration  Tot Fwd Pkts  \\\n",
       "0        61954         6  02/03/2018 04:47:12            165             2   \n",
       "1           80         6  02/03/2018 01:49:05        5727100             4   \n",
       "2         3389         6  02/03/2018 04:07:56        4053796            14   \n",
       "3          445         6  02/03/2018 03:00:59         833502             7   \n",
       "4           53        17  02/03/2018 01:43:57            601             1   \n",
       "...        ...       ...                  ...            ...           ...   \n",
       "9995        22         6  14/02/2018 03:11:10              7             1   \n",
       "9996        22         6  14/02/2018 03:18:34              6             1   \n",
       "9997        22         6  14/02/2018 02:30:39              7             1   \n",
       "9998        22         6  14/02/2018 03:22:32              6             1   \n",
       "9999        22         6  14/02/2018 02:08:00              7             1   \n",
       "\n",
       "      Tot Bwd Pkts  TotLen Fwd Pkts  TotLen Bwd Pkts  Fwd Pkt Len Max  \\\n",
       "0                0                0              0.0                0   \n",
       "1                4               97            231.0               97   \n",
       "2                8             1456           1731.0              741   \n",
       "3                5              364            582.0              103   \n",
       "4                1               53             85.0               53   \n",
       "...            ...              ...              ...              ...   \n",
       "9995             1                0              0.0                0   \n",
       "9996             1                0              0.0                0   \n",
       "9997             1                0              0.0                0   \n",
       "9998             1                0              0.0                0   \n",
       "9999             1                0              0.0                0   \n",
       "\n",
       "      Fwd Pkt Len Min  ...  Fwd Seg Size Min  Active Mean  Active Std  \\\n",
       "0                   0  ...                20          0.0         0.0   \n",
       "1                   0  ...                20          0.0         0.0   \n",
       "2                   0  ...                20          0.0         0.0   \n",
       "3                   0  ...                20          0.0         0.0   \n",
       "4                  53  ...                 8          0.0         0.0   \n",
       "...               ...  ...               ...          ...         ...   \n",
       "9995                0  ...                32          0.0         0.0   \n",
       "9996                0  ...                32          0.0         0.0   \n",
       "9997                0  ...                32          0.0         0.0   \n",
       "9998                0  ...                32          0.0         0.0   \n",
       "9999                0  ...                32          0.0         0.0   \n",
       "\n",
       "      Active Max  Active Min  Idle Mean  Idle Std  Idle Max  Idle Min  \\\n",
       "0            0.0         0.0        0.0       0.0       0.0       0.0   \n",
       "1            0.0         0.0        0.0       0.0       0.0       0.0   \n",
       "2            0.0         0.0        0.0       0.0       0.0       0.0   \n",
       "3            0.0         0.0        0.0       0.0       0.0       0.0   \n",
       "4            0.0         0.0        0.0       0.0       0.0       0.0   \n",
       "...          ...         ...        ...       ...       ...       ...   \n",
       "9995         0.0         0.0        0.0       0.0       0.0       0.0   \n",
       "9996         0.0         0.0        0.0       0.0       0.0       0.0   \n",
       "9997         0.0         0.0        0.0       0.0       0.0       0.0   \n",
       "9998         0.0         0.0        0.0       0.0       0.0       0.0   \n",
       "9999         0.0         0.0        0.0       0.0       0.0       0.0   \n",
       "\n",
       "               Label  \n",
       "0             Benign  \n",
       "1             Benign  \n",
       "2             Benign  \n",
       "3             Benign  \n",
       "4             Benign  \n",
       "...              ...  \n",
       "9995  SSH-Bruteforce  \n",
       "9996  SSH-Bruteforce  \n",
       "9997  SSH-Bruteforce  \n",
       "9998  SSH-Bruteforce  \n",
       "9999  SSH-Bruteforce  \n",
       "\n",
       "[10000 rows x 80 columns]"
      ]
     },
     "execution_count": 120,
     "metadata": {},
     "output_type": "execute_result"
    }
   ],
   "source": [
    "df"
   ]
  },
  {
   "cell_type": "code",
   "execution_count": 121,
   "metadata": {},
   "outputs": [
    {
     "data": {
      "text/plain": [
       "Label\n",
       "Benign                      4894\n",
       "DoS attacks-GoldenEye        900\n",
       "Brute Force -Web             611\n",
       "DoS attacks-Slowloris        500\n",
       "DDOS attack-HOIC             400\n",
       "DoS attacks-Hulk             400\n",
       "Infilteration                394\n",
       "FTP-BruteForce               350\n",
       "SSH-Bruteforce               350\n",
       "DDOS attack-LOIC-UDP         300\n",
       "DoS attacks-SlowHTTPTest     300\n",
       "Bot                          284\n",
       "Brute Force -XSS             230\n",
       "SQL Injection                 87\n",
       "Name: count, dtype: int64"
      ]
     },
     "execution_count": 121,
     "metadata": {},
     "output_type": "execute_result"
    }
   ],
   "source": [
    "df.Label.value_counts()"
   ]
  },
  {
   "cell_type": "code",
   "execution_count": 122,
   "metadata": {},
   "outputs": [
    {
     "data": {
      "text/plain": [
       "Dst Port           int64\n",
       "Protocol           int64\n",
       "Timestamp         object\n",
       "Flow Duration      int64\n",
       "Tot Fwd Pkts       int64\n",
       "                  ...   \n",
       "Idle Mean        float64\n",
       "Idle Std         float64\n",
       "Idle Max         float64\n",
       "Idle Min         float64\n",
       "Label             object\n",
       "Length: 80, dtype: object"
      ]
     },
     "execution_count": 122,
     "metadata": {},
     "output_type": "execute_result"
    }
   ],
   "source": [
    "df.dtypes"
   ]
  },
  {
   "cell_type": "markdown",
   "metadata": {},
   "source": [
    "### Preprocessing (normalization and padding values)"
   ]
  },
  {
   "cell_type": "code",
   "execution_count": 123,
   "metadata": {},
   "outputs": [],
   "source": [
    "# Z-score normalization\n",
    "features = df.dtypes[df.dtypes != 'object'].index\n",
    "df[features] = df[features].apply(\n",
    "    lambda x: (x - x.mean()) / (x.std()))\n",
    "# Fill empty values by 0\n",
    "df = df.fillna(0)"
   ]
  },
  {
   "cell_type": "code",
   "execution_count": 124,
   "metadata": {},
   "outputs": [],
   "source": [
    "df = df.drop(columns=['Timestamp'])"
   ]
  },
  {
   "cell_type": "code",
   "execution_count": 125,
   "metadata": {},
   "outputs": [
    {
     "data": {
      "text/plain": [
       "Index(['Dst Port', 'Protocol', 'Flow Duration', 'Tot Fwd Pkts', 'Tot Bwd Pkts',\n",
       "       'TotLen Fwd Pkts', 'TotLen Bwd Pkts', 'Fwd Pkt Len Max',\n",
       "       'Fwd Pkt Len Min', 'Fwd Pkt Len Mean', 'Fwd Pkt Len Std',\n",
       "       'Bwd Pkt Len Max', 'Bwd Pkt Len Min', 'Bwd Pkt Len Mean',\n",
       "       'Bwd Pkt Len Std', 'Flow Byts/s', 'Flow Pkts/s', 'Flow IAT Mean',\n",
       "       'Flow IAT Std', 'Flow IAT Max', 'Flow IAT Min', 'Fwd IAT Tot',\n",
       "       'Fwd IAT Mean', 'Fwd IAT Std', 'Fwd IAT Max', 'Fwd IAT Min',\n",
       "       'Bwd IAT Tot', 'Bwd IAT Mean', 'Bwd IAT Std', 'Bwd IAT Max',\n",
       "       'Bwd IAT Min', 'Fwd PSH Flags', 'Bwd PSH Flags', 'Fwd URG Flags',\n",
       "       'Bwd URG Flags', 'Fwd Header Len', 'Bwd Header Len', 'Fwd Pkts/s',\n",
       "       'Bwd Pkts/s', 'Pkt Len Min', 'Pkt Len Max', 'Pkt Len Mean',\n",
       "       'Pkt Len Std', 'Pkt Len Var', 'FIN Flag Cnt', 'SYN Flag Cnt',\n",
       "       'RST Flag Cnt', 'PSH Flag Cnt', 'ACK Flag Cnt', 'URG Flag Cnt',\n",
       "       'CWE Flag Count', 'ECE Flag Cnt', 'Down/Up Ratio', 'Pkt Size Avg',\n",
       "       'Fwd Seg Size Avg', 'Bwd Seg Size Avg', 'Fwd Byts/b Avg',\n",
       "       'Fwd Pkts/b Avg', 'Fwd Blk Rate Avg', 'Bwd Byts/b Avg',\n",
       "       'Bwd Pkts/b Avg', 'Bwd Blk Rate Avg', 'Subflow Fwd Pkts',\n",
       "       'Subflow Fwd Byts', 'Subflow Bwd Pkts', 'Subflow Bwd Byts',\n",
       "       'Init Fwd Win Byts', 'Init Bwd Win Byts', 'Fwd Act Data Pkts',\n",
       "       'Fwd Seg Size Min', 'Active Mean', 'Active Std', 'Active Max',\n",
       "       'Active Min', 'Idle Mean', 'Idle Std', 'Idle Max', 'Idle Min'],\n",
       "      dtype='object')"
      ]
     },
     "execution_count": 125,
     "metadata": {},
     "output_type": "execute_result"
    }
   ],
   "source": [
    "features"
   ]
  },
  {
   "cell_type": "markdown",
   "metadata": {},
   "source": [
    "### Data sampling\n",
    "Due to the space limit of GitHub files and the large size of network traffic data, we sample a small-sized subset for model learning using **k-means cluster sampling**"
   ]
  },
  {
   "cell_type": "code",
   "execution_count": 126,
   "metadata": {},
   "outputs": [],
   "source": [
    "labelencoder = LabelEncoder()\n",
    "df.iloc[:, -1] = labelencoder.fit_transform(df.iloc[:, -1])"
   ]
  },
  {
   "cell_type": "code",
   "execution_count": 127,
   "metadata": {},
   "outputs": [
    {
     "data": {
      "text/plain": [
       "Label\n",
       "0     4894\n",
       "6      900\n",
       "2      611\n",
       "9      500\n",
       "4      400\n",
       "7      400\n",
       "11     394\n",
       "10     350\n",
       "13     350\n",
       "5      300\n",
       "8      300\n",
       "1      284\n",
       "3      230\n",
       "12      87\n",
       "Name: count, dtype: int64"
      ]
     },
     "execution_count": 127,
     "metadata": {},
     "output_type": "execute_result"
    }
   ],
   "source": [
    "df.Label.value_counts()"
   ]
  },
  {
   "cell_type": "code",
   "execution_count": 128,
   "metadata": {},
   "outputs": [],
   "source": [
    "# retain the minority class instances and sample the majority class instances\n",
    "df_minor = df[(df['Label']==12)]\n",
    "df_major = df.drop(df_minor.index)"
   ]
  },
  {
   "cell_type": "code",
   "execution_count": 129,
   "metadata": {},
   "outputs": [],
   "source": [
    "X = df_major.drop(['Label'],axis=1) \n",
    "y = df_major.iloc[:, -1].values.reshape(-1,1)\n",
    "y=np.ravel(y)"
   ]
  },
  {
   "cell_type": "code",
   "execution_count": 130,
   "metadata": {},
   "outputs": [],
   "source": [
    "# use k-means to cluster the data samples and select a proportion of data from each cluster\n",
    "from sklearn.cluster import MiniBatchKMeans\n",
    "kmeans = MiniBatchKMeans(n_clusters=100, random_state=0).fit(X)"
   ]
  },
  {
   "cell_type": "code",
   "execution_count": 131,
   "metadata": {},
   "outputs": [],
   "source": [
    "klabel=kmeans.labels_\n",
    "df_major['klabel']=klabel"
   ]
  },
  {
   "cell_type": "code",
   "execution_count": 132,
   "metadata": {},
   "outputs": [
    {
     "data": {
      "text/plain": [
       "klabel\n",
       "97    440\n",
       "42    376\n",
       "13    363\n",
       "41    343\n",
       "16    290\n",
       "     ... \n",
       "61      8\n",
       "69      6\n",
       "14      5\n",
       "10      3\n",
       "59      2\n",
       "Name: count, Length: 100, dtype: int64"
      ]
     },
     "execution_count": 132,
     "metadata": {},
     "output_type": "execute_result"
    }
   ],
   "source": [
    "df_major['klabel'].value_counts()"
   ]
  },
  {
   "cell_type": "code",
   "execution_count": 133,
   "metadata": {},
   "outputs": [],
   "source": [
    "cols = list(df_major)\n",
    "cols.insert(80, cols.pop(cols.index('Label')))\n",
    "df_major = df_major.loc[:, cols]"
   ]
  },
  {
   "cell_type": "code",
   "execution_count": 134,
   "metadata": {},
   "outputs": [
    {
     "data": {
      "text/html": [
       "<div>\n",
       "<style scoped>\n",
       "    .dataframe tbody tr th:only-of-type {\n",
       "        vertical-align: middle;\n",
       "    }\n",
       "\n",
       "    .dataframe tbody tr th {\n",
       "        vertical-align: top;\n",
       "    }\n",
       "\n",
       "    .dataframe thead th {\n",
       "        text-align: right;\n",
       "    }\n",
       "</style>\n",
       "<table border=\"1\" class=\"dataframe\">\n",
       "  <thead>\n",
       "    <tr style=\"text-align: right;\">\n",
       "      <th></th>\n",
       "      <th>Dst Port</th>\n",
       "      <th>Protocol</th>\n",
       "      <th>Flow Duration</th>\n",
       "      <th>Tot Fwd Pkts</th>\n",
       "      <th>Tot Bwd Pkts</th>\n",
       "      <th>TotLen Fwd Pkts</th>\n",
       "      <th>TotLen Bwd Pkts</th>\n",
       "      <th>Fwd Pkt Len Max</th>\n",
       "      <th>Fwd Pkt Len Min</th>\n",
       "      <th>Fwd Pkt Len Mean</th>\n",
       "      <th>...</th>\n",
       "      <th>Active Mean</th>\n",
       "      <th>Active Std</th>\n",
       "      <th>Active Max</th>\n",
       "      <th>Active Min</th>\n",
       "      <th>Idle Mean</th>\n",
       "      <th>Idle Std</th>\n",
       "      <th>Idle Max</th>\n",
       "      <th>Idle Min</th>\n",
       "      <th>klabel</th>\n",
       "      <th>Label</th>\n",
       "    </tr>\n",
       "  </thead>\n",
       "  <tbody>\n",
       "    <tr>\n",
       "      <th>0</th>\n",
       "      <td>3.131225</td>\n",
       "      <td>-0.461368</td>\n",
       "      <td>-0.480172</td>\n",
       "      <td>-0.171082</td>\n",
       "      <td>-0.084956</td>\n",
       "      <td>-0.173458</td>\n",
       "      <td>-0.047546</td>\n",
       "      <td>-0.723948</td>\n",
       "      <td>-0.233855</td>\n",
       "      <td>-0.702657</td>\n",
       "      <td>...</td>\n",
       "      <td>-0.125459</td>\n",
       "      <td>-0.076865</td>\n",
       "      <td>-0.12884</td>\n",
       "      <td>-0.113375</td>\n",
       "      <td>-0.307966</td>\n",
       "      <td>-0.194012</td>\n",
       "      <td>-0.33129</td>\n",
       "      <td>-0.280903</td>\n",
       "      <td>0</td>\n",
       "      <td>0</td>\n",
       "    </tr>\n",
       "    <tr>\n",
       "      <th>1</th>\n",
       "      <td>-0.427025</td>\n",
       "      <td>-0.461368</td>\n",
       "      <td>-0.322615</td>\n",
       "      <td>-0.170985</td>\n",
       "      <td>-0.033698</td>\n",
       "      <td>-0.173311</td>\n",
       "      <td>-0.045471</td>\n",
       "      <td>-0.406712</td>\n",
       "      <td>-0.233855</td>\n",
       "      <td>-0.443410</td>\n",
       "      <td>...</td>\n",
       "      <td>-0.125459</td>\n",
       "      <td>-0.076865</td>\n",
       "      <td>-0.12884</td>\n",
       "      <td>-0.113375</td>\n",
       "      <td>-0.307966</td>\n",
       "      <td>-0.194012</td>\n",
       "      <td>-0.33129</td>\n",
       "      <td>-0.280903</td>\n",
       "      <td>54</td>\n",
       "      <td>0</td>\n",
       "    </tr>\n",
       "    <tr>\n",
       "      <th>2</th>\n",
       "      <td>-0.236731</td>\n",
       "      <td>-0.461368</td>\n",
       "      <td>-0.368650</td>\n",
       "      <td>-0.170502</td>\n",
       "      <td>0.017560</td>\n",
       "      <td>-0.171258</td>\n",
       "      <td>-0.031999</td>\n",
       "      <td>1.699470</td>\n",
       "      <td>-0.233855</td>\n",
       "      <td>0.409167</td>\n",
       "      <td>...</td>\n",
       "      <td>-0.125459</td>\n",
       "      <td>-0.076865</td>\n",
       "      <td>-0.12884</td>\n",
       "      <td>-0.113375</td>\n",
       "      <td>-0.307966</td>\n",
       "      <td>-0.194012</td>\n",
       "      <td>-0.33129</td>\n",
       "      <td>-0.280903</td>\n",
       "      <td>13</td>\n",
       "      <td>0</td>\n",
       "    </tr>\n",
       "    <tr>\n",
       "      <th>3</th>\n",
       "      <td>-0.406035</td>\n",
       "      <td>-0.461368</td>\n",
       "      <td>-0.457246</td>\n",
       "      <td>-0.170840</td>\n",
       "      <td>-0.020884</td>\n",
       "      <td>-0.172908</td>\n",
       "      <td>-0.042319</td>\n",
       "      <td>-0.387090</td>\n",
       "      <td>-0.233855</td>\n",
       "      <td>-0.146745</td>\n",
       "      <td>...</td>\n",
       "      <td>-0.125459</td>\n",
       "      <td>-0.076865</td>\n",
       "      <td>-0.12884</td>\n",
       "      <td>-0.113375</td>\n",
       "      <td>-0.307966</td>\n",
       "      <td>-0.194012</td>\n",
       "      <td>-0.33129</td>\n",
       "      <td>-0.280903</td>\n",
       "      <td>6</td>\n",
       "      <td>0</td>\n",
       "    </tr>\n",
       "    <tr>\n",
       "      <th>4</th>\n",
       "      <td>-0.428578</td>\n",
       "      <td>2.052901</td>\n",
       "      <td>-0.480160</td>\n",
       "      <td>-0.171130</td>\n",
       "      <td>-0.072141</td>\n",
       "      <td>-0.173378</td>\n",
       "      <td>-0.046782</td>\n",
       "      <td>-0.550613</td>\n",
       "      <td>0.623615</td>\n",
       "      <td>-0.136055</td>\n",
       "      <td>...</td>\n",
       "      <td>-0.125459</td>\n",
       "      <td>-0.076865</td>\n",
       "      <td>-0.12884</td>\n",
       "      <td>-0.113375</td>\n",
       "      <td>-0.307966</td>\n",
       "      <td>-0.194012</td>\n",
       "      <td>-0.33129</td>\n",
       "      <td>-0.280903</td>\n",
       "      <td>73</td>\n",
       "      <td>0</td>\n",
       "    </tr>\n",
       "    <tr>\n",
       "      <th>...</th>\n",
       "      <td>...</td>\n",
       "      <td>...</td>\n",
       "      <td>...</td>\n",
       "      <td>...</td>\n",
       "      <td>...</td>\n",
       "      <td>...</td>\n",
       "      <td>...</td>\n",
       "      <td>...</td>\n",
       "      <td>...</td>\n",
       "      <td>...</td>\n",
       "      <td>...</td>\n",
       "      <td>...</td>\n",
       "      <td>...</td>\n",
       "      <td>...</td>\n",
       "      <td>...</td>\n",
       "      <td>...</td>\n",
       "      <td>...</td>\n",
       "      <td>...</td>\n",
       "      <td>...</td>\n",
       "      <td>...</td>\n",
       "      <td>...</td>\n",
       "    </tr>\n",
       "    <tr>\n",
       "      <th>9995</th>\n",
       "      <td>-0.430361</td>\n",
       "      <td>-0.461368</td>\n",
       "      <td>-0.480177</td>\n",
       "      <td>-0.171130</td>\n",
       "      <td>-0.072141</td>\n",
       "      <td>-0.173458</td>\n",
       "      <td>-0.047546</td>\n",
       "      <td>-0.723948</td>\n",
       "      <td>-0.233855</td>\n",
       "      <td>-0.702657</td>\n",
       "      <td>...</td>\n",
       "      <td>-0.125459</td>\n",
       "      <td>-0.076865</td>\n",
       "      <td>-0.12884</td>\n",
       "      <td>-0.113375</td>\n",
       "      <td>-0.307966</td>\n",
       "      <td>-0.194012</td>\n",
       "      <td>-0.33129</td>\n",
       "      <td>-0.280903</td>\n",
       "      <td>21</td>\n",
       "      <td>13</td>\n",
       "    </tr>\n",
       "    <tr>\n",
       "      <th>9996</th>\n",
       "      <td>-0.430361</td>\n",
       "      <td>-0.461368</td>\n",
       "      <td>-0.480177</td>\n",
       "      <td>-0.171130</td>\n",
       "      <td>-0.072141</td>\n",
       "      <td>-0.173458</td>\n",
       "      <td>-0.047546</td>\n",
       "      <td>-0.723948</td>\n",
       "      <td>-0.233855</td>\n",
       "      <td>-0.702657</td>\n",
       "      <td>...</td>\n",
       "      <td>-0.125459</td>\n",
       "      <td>-0.076865</td>\n",
       "      <td>-0.12884</td>\n",
       "      <td>-0.113375</td>\n",
       "      <td>-0.307966</td>\n",
       "      <td>-0.194012</td>\n",
       "      <td>-0.33129</td>\n",
       "      <td>-0.280903</td>\n",
       "      <td>21</td>\n",
       "      <td>13</td>\n",
       "    </tr>\n",
       "    <tr>\n",
       "      <th>9997</th>\n",
       "      <td>-0.430361</td>\n",
       "      <td>-0.461368</td>\n",
       "      <td>-0.480177</td>\n",
       "      <td>-0.171130</td>\n",
       "      <td>-0.072141</td>\n",
       "      <td>-0.173458</td>\n",
       "      <td>-0.047546</td>\n",
       "      <td>-0.723948</td>\n",
       "      <td>-0.233855</td>\n",
       "      <td>-0.702657</td>\n",
       "      <td>...</td>\n",
       "      <td>-0.125459</td>\n",
       "      <td>-0.076865</td>\n",
       "      <td>-0.12884</td>\n",
       "      <td>-0.113375</td>\n",
       "      <td>-0.307966</td>\n",
       "      <td>-0.194012</td>\n",
       "      <td>-0.33129</td>\n",
       "      <td>-0.280903</td>\n",
       "      <td>21</td>\n",
       "      <td>13</td>\n",
       "    </tr>\n",
       "    <tr>\n",
       "      <th>9998</th>\n",
       "      <td>-0.430361</td>\n",
       "      <td>-0.461368</td>\n",
       "      <td>-0.480177</td>\n",
       "      <td>-0.171130</td>\n",
       "      <td>-0.072141</td>\n",
       "      <td>-0.173458</td>\n",
       "      <td>-0.047546</td>\n",
       "      <td>-0.723948</td>\n",
       "      <td>-0.233855</td>\n",
       "      <td>-0.702657</td>\n",
       "      <td>...</td>\n",
       "      <td>-0.125459</td>\n",
       "      <td>-0.076865</td>\n",
       "      <td>-0.12884</td>\n",
       "      <td>-0.113375</td>\n",
       "      <td>-0.307966</td>\n",
       "      <td>-0.194012</td>\n",
       "      <td>-0.33129</td>\n",
       "      <td>-0.280903</td>\n",
       "      <td>21</td>\n",
       "      <td>13</td>\n",
       "    </tr>\n",
       "    <tr>\n",
       "      <th>9999</th>\n",
       "      <td>-0.430361</td>\n",
       "      <td>-0.461368</td>\n",
       "      <td>-0.480177</td>\n",
       "      <td>-0.171130</td>\n",
       "      <td>-0.072141</td>\n",
       "      <td>-0.173458</td>\n",
       "      <td>-0.047546</td>\n",
       "      <td>-0.723948</td>\n",
       "      <td>-0.233855</td>\n",
       "      <td>-0.702657</td>\n",
       "      <td>...</td>\n",
       "      <td>-0.125459</td>\n",
       "      <td>-0.076865</td>\n",
       "      <td>-0.12884</td>\n",
       "      <td>-0.113375</td>\n",
       "      <td>-0.307966</td>\n",
       "      <td>-0.194012</td>\n",
       "      <td>-0.33129</td>\n",
       "      <td>-0.280903</td>\n",
       "      <td>21</td>\n",
       "      <td>13</td>\n",
       "    </tr>\n",
       "  </tbody>\n",
       "</table>\n",
       "<p>9913 rows × 80 columns</p>\n",
       "</div>"
      ],
      "text/plain": [
       "      Dst Port  Protocol  Flow Duration  Tot Fwd Pkts  Tot Bwd Pkts  \\\n",
       "0     3.131225 -0.461368      -0.480172     -0.171082     -0.084956   \n",
       "1    -0.427025 -0.461368      -0.322615     -0.170985     -0.033698   \n",
       "2    -0.236731 -0.461368      -0.368650     -0.170502      0.017560   \n",
       "3    -0.406035 -0.461368      -0.457246     -0.170840     -0.020884   \n",
       "4    -0.428578  2.052901      -0.480160     -0.171130     -0.072141   \n",
       "...        ...       ...            ...           ...           ...   \n",
       "9995 -0.430361 -0.461368      -0.480177     -0.171130     -0.072141   \n",
       "9996 -0.430361 -0.461368      -0.480177     -0.171130     -0.072141   \n",
       "9997 -0.430361 -0.461368      -0.480177     -0.171130     -0.072141   \n",
       "9998 -0.430361 -0.461368      -0.480177     -0.171130     -0.072141   \n",
       "9999 -0.430361 -0.461368      -0.480177     -0.171130     -0.072141   \n",
       "\n",
       "      TotLen Fwd Pkts  TotLen Bwd Pkts  Fwd Pkt Len Max  Fwd Pkt Len Min  \\\n",
       "0           -0.173458        -0.047546        -0.723948        -0.233855   \n",
       "1           -0.173311        -0.045471        -0.406712        -0.233855   \n",
       "2           -0.171258        -0.031999         1.699470        -0.233855   \n",
       "3           -0.172908        -0.042319        -0.387090        -0.233855   \n",
       "4           -0.173378        -0.046782        -0.550613         0.623615   \n",
       "...               ...              ...              ...              ...   \n",
       "9995        -0.173458        -0.047546        -0.723948        -0.233855   \n",
       "9996        -0.173458        -0.047546        -0.723948        -0.233855   \n",
       "9997        -0.173458        -0.047546        -0.723948        -0.233855   \n",
       "9998        -0.173458        -0.047546        -0.723948        -0.233855   \n",
       "9999        -0.173458        -0.047546        -0.723948        -0.233855   \n",
       "\n",
       "      Fwd Pkt Len Mean  ...  Active Mean  Active Std  Active Max  Active Min  \\\n",
       "0            -0.702657  ...    -0.125459   -0.076865    -0.12884   -0.113375   \n",
       "1            -0.443410  ...    -0.125459   -0.076865    -0.12884   -0.113375   \n",
       "2             0.409167  ...    -0.125459   -0.076865    -0.12884   -0.113375   \n",
       "3            -0.146745  ...    -0.125459   -0.076865    -0.12884   -0.113375   \n",
       "4            -0.136055  ...    -0.125459   -0.076865    -0.12884   -0.113375   \n",
       "...                ...  ...          ...         ...         ...         ...   \n",
       "9995         -0.702657  ...    -0.125459   -0.076865    -0.12884   -0.113375   \n",
       "9996         -0.702657  ...    -0.125459   -0.076865    -0.12884   -0.113375   \n",
       "9997         -0.702657  ...    -0.125459   -0.076865    -0.12884   -0.113375   \n",
       "9998         -0.702657  ...    -0.125459   -0.076865    -0.12884   -0.113375   \n",
       "9999         -0.702657  ...    -0.125459   -0.076865    -0.12884   -0.113375   \n",
       "\n",
       "      Idle Mean  Idle Std  Idle Max  Idle Min  klabel  Label  \n",
       "0     -0.307966 -0.194012  -0.33129 -0.280903       0      0  \n",
       "1     -0.307966 -0.194012  -0.33129 -0.280903      54      0  \n",
       "2     -0.307966 -0.194012  -0.33129 -0.280903      13      0  \n",
       "3     -0.307966 -0.194012  -0.33129 -0.280903       6      0  \n",
       "4     -0.307966 -0.194012  -0.33129 -0.280903      73      0  \n",
       "...         ...       ...       ...       ...     ...    ...  \n",
       "9995  -0.307966 -0.194012  -0.33129 -0.280903      21     13  \n",
       "9996  -0.307966 -0.194012  -0.33129 -0.280903      21     13  \n",
       "9997  -0.307966 -0.194012  -0.33129 -0.280903      21     13  \n",
       "9998  -0.307966 -0.194012  -0.33129 -0.280903      21     13  \n",
       "9999  -0.307966 -0.194012  -0.33129 -0.280903      21     13  \n",
       "\n",
       "[9913 rows x 80 columns]"
      ]
     },
     "execution_count": 134,
     "metadata": {},
     "output_type": "execute_result"
    }
   ],
   "source": [
    "df_major"
   ]
  },
  {
   "cell_type": "code",
   "execution_count": 135,
   "metadata": {},
   "outputs": [],
   "source": [
    "def typicalSampling(group):\n",
    "    name = group.name\n",
    "    frac = 0.8\n",
    "    return group.sample(frac=frac)\n",
    "\n",
    "result = df_major.groupby(\n",
    "    'klabel', group_keys=False\n",
    ").apply(typicalSampling)"
   ]
  },
  {
   "cell_type": "code",
   "execution_count": 136,
   "metadata": {},
   "outputs": [
    {
     "data": {
      "text/plain": [
       "Label\n",
       "0     3906\n",
       "6      721\n",
       "2      487\n",
       "9      399\n",
       "11     323\n",
       "4      321\n",
       "7      321\n",
       "13     280\n",
       "10     278\n",
       "8      241\n",
       "5      240\n",
       "1      226\n",
       "3      183\n",
       "Name: count, dtype: int64"
      ]
     },
     "execution_count": 136,
     "metadata": {},
     "output_type": "execute_result"
    }
   ],
   "source": [
    "result['Label'].value_counts()"
   ]
  },
  {
   "cell_type": "code",
   "execution_count": 137,
   "metadata": {},
   "outputs": [
    {
     "data": {
      "text/html": [
       "<div>\n",
       "<style scoped>\n",
       "    .dataframe tbody tr th:only-of-type {\n",
       "        vertical-align: middle;\n",
       "    }\n",
       "\n",
       "    .dataframe tbody tr th {\n",
       "        vertical-align: top;\n",
       "    }\n",
       "\n",
       "    .dataframe thead th {\n",
       "        text-align: right;\n",
       "    }\n",
       "</style>\n",
       "<table border=\"1\" class=\"dataframe\">\n",
       "  <thead>\n",
       "    <tr style=\"text-align: right;\">\n",
       "      <th></th>\n",
       "      <th>Dst Port</th>\n",
       "      <th>Protocol</th>\n",
       "      <th>Flow Duration</th>\n",
       "      <th>Tot Fwd Pkts</th>\n",
       "      <th>Tot Bwd Pkts</th>\n",
       "      <th>TotLen Fwd Pkts</th>\n",
       "      <th>TotLen Bwd Pkts</th>\n",
       "      <th>Fwd Pkt Len Max</th>\n",
       "      <th>Fwd Pkt Len Min</th>\n",
       "      <th>Fwd Pkt Len Mean</th>\n",
       "      <th>...</th>\n",
       "      <th>Active Mean</th>\n",
       "      <th>Active Std</th>\n",
       "      <th>Active Max</th>\n",
       "      <th>Active Min</th>\n",
       "      <th>Idle Mean</th>\n",
       "      <th>Idle Std</th>\n",
       "      <th>Idle Max</th>\n",
       "      <th>Idle Min</th>\n",
       "      <th>klabel</th>\n",
       "      <th>Label</th>\n",
       "    </tr>\n",
       "  </thead>\n",
       "  <tbody>\n",
       "    <tr>\n",
       "      <th>9009</th>\n",
       "      <td>2.693474</td>\n",
       "      <td>-0.461368</td>\n",
       "      <td>-0.480173</td>\n",
       "      <td>-0.171082</td>\n",
       "      <td>-0.084956</td>\n",
       "      <td>-0.173458</td>\n",
       "      <td>-0.047546</td>\n",
       "      <td>-0.723948</td>\n",
       "      <td>-0.233855</td>\n",
       "      <td>-0.702657</td>\n",
       "      <td>...</td>\n",
       "      <td>-0.125459</td>\n",
       "      <td>-0.076865</td>\n",
       "      <td>-0.12884</td>\n",
       "      <td>-0.113375</td>\n",
       "      <td>-0.307966</td>\n",
       "      <td>-0.194012</td>\n",
       "      <td>-0.33129</td>\n",
       "      <td>-0.280903</td>\n",
       "      <td>0</td>\n",
       "      <td>0</td>\n",
       "    </tr>\n",
       "    <tr>\n",
       "      <th>2419</th>\n",
       "      <td>2.580069</td>\n",
       "      <td>-0.461368</td>\n",
       "      <td>-0.480079</td>\n",
       "      <td>-0.171082</td>\n",
       "      <td>-0.084956</td>\n",
       "      <td>-0.173458</td>\n",
       "      <td>-0.047546</td>\n",
       "      <td>-0.723948</td>\n",
       "      <td>-0.233855</td>\n",
       "      <td>-0.702657</td>\n",
       "      <td>...</td>\n",
       "      <td>-0.125459</td>\n",
       "      <td>-0.076865</td>\n",
       "      <td>-0.12884</td>\n",
       "      <td>-0.113375</td>\n",
       "      <td>-0.307966</td>\n",
       "      <td>-0.194012</td>\n",
       "      <td>-0.33129</td>\n",
       "      <td>-0.280903</td>\n",
       "      <td>0</td>\n",
       "      <td>0</td>\n",
       "    </tr>\n",
       "    <tr>\n",
       "      <th>2845</th>\n",
       "      <td>2.429283</td>\n",
       "      <td>-0.461368</td>\n",
       "      <td>-0.480176</td>\n",
       "      <td>-0.171033</td>\n",
       "      <td>-0.072141</td>\n",
       "      <td>-0.173411</td>\n",
       "      <td>-0.047546</td>\n",
       "      <td>-0.622563</td>\n",
       "      <td>-0.233855</td>\n",
       "      <td>-0.592188</td>\n",
       "      <td>...</td>\n",
       "      <td>-0.125459</td>\n",
       "      <td>-0.076865</td>\n",
       "      <td>-0.12884</td>\n",
       "      <td>-0.113375</td>\n",
       "      <td>-0.307966</td>\n",
       "      <td>-0.194012</td>\n",
       "      <td>-0.33129</td>\n",
       "      <td>-0.280903</td>\n",
       "      <td>0</td>\n",
       "      <td>0</td>\n",
       "    </tr>\n",
       "    <tr>\n",
       "      <th>8272</th>\n",
       "      <td>2.613883</td>\n",
       "      <td>-0.461368</td>\n",
       "      <td>-0.480175</td>\n",
       "      <td>-0.171082</td>\n",
       "      <td>-0.084956</td>\n",
       "      <td>-0.173458</td>\n",
       "      <td>-0.047546</td>\n",
       "      <td>-0.723948</td>\n",
       "      <td>-0.233855</td>\n",
       "      <td>-0.702657</td>\n",
       "      <td>...</td>\n",
       "      <td>-0.125459</td>\n",
       "      <td>-0.076865</td>\n",
       "      <td>-0.12884</td>\n",
       "      <td>-0.113375</td>\n",
       "      <td>-0.307966</td>\n",
       "      <td>-0.194012</td>\n",
       "      <td>-0.33129</td>\n",
       "      <td>-0.280903</td>\n",
       "      <td>0</td>\n",
       "      <td>0</td>\n",
       "    </tr>\n",
       "    <tr>\n",
       "      <th>2138</th>\n",
       "      <td>2.566094</td>\n",
       "      <td>-0.461368</td>\n",
       "      <td>-0.480175</td>\n",
       "      <td>-0.171033</td>\n",
       "      <td>-0.072141</td>\n",
       "      <td>-0.173411</td>\n",
       "      <td>-0.047546</td>\n",
       "      <td>-0.622563</td>\n",
       "      <td>-0.233855</td>\n",
       "      <td>-0.592188</td>\n",
       "      <td>...</td>\n",
       "      <td>-0.125459</td>\n",
       "      <td>-0.076865</td>\n",
       "      <td>-0.12884</td>\n",
       "      <td>-0.113375</td>\n",
       "      <td>-0.307966</td>\n",
       "      <td>-0.194012</td>\n",
       "      <td>-0.33129</td>\n",
       "      <td>-0.280903</td>\n",
       "      <td>0</td>\n",
       "      <td>0</td>\n",
       "    </tr>\n",
       "    <tr>\n",
       "      <th>...</th>\n",
       "      <td>...</td>\n",
       "      <td>...</td>\n",
       "      <td>...</td>\n",
       "      <td>...</td>\n",
       "      <td>...</td>\n",
       "      <td>...</td>\n",
       "      <td>...</td>\n",
       "      <td>...</td>\n",
       "      <td>...</td>\n",
       "      <td>...</td>\n",
       "      <td>...</td>\n",
       "      <td>...</td>\n",
       "      <td>...</td>\n",
       "      <td>...</td>\n",
       "      <td>...</td>\n",
       "      <td>...</td>\n",
       "      <td>...</td>\n",
       "      <td>...</td>\n",
       "      <td>...</td>\n",
       "      <td>...</td>\n",
       "      <td>...</td>\n",
       "    </tr>\n",
       "    <tr>\n",
       "      <th>252</th>\n",
       "      <td>-0.427025</td>\n",
       "      <td>-0.461368</td>\n",
       "      <td>-0.480156</td>\n",
       "      <td>-0.171033</td>\n",
       "      <td>-0.033698</td>\n",
       "      <td>-0.173214</td>\n",
       "      <td>-0.043163</td>\n",
       "      <td>-0.197402</td>\n",
       "      <td>-0.233855</td>\n",
       "      <td>-0.128928</td>\n",
       "      <td>...</td>\n",
       "      <td>-0.125459</td>\n",
       "      <td>-0.076865</td>\n",
       "      <td>-0.12884</td>\n",
       "      <td>-0.113375</td>\n",
       "      <td>-0.307966</td>\n",
       "      <td>-0.194012</td>\n",
       "      <td>-0.33129</td>\n",
       "      <td>-0.280903</td>\n",
       "      <td>99</td>\n",
       "      <td>0</td>\n",
       "    </tr>\n",
       "    <tr>\n",
       "      <th>4284</th>\n",
       "      <td>-0.427025</td>\n",
       "      <td>-0.461368</td>\n",
       "      <td>-0.480156</td>\n",
       "      <td>-0.171033</td>\n",
       "      <td>-0.033698</td>\n",
       "      <td>-0.173214</td>\n",
       "      <td>-0.043163</td>\n",
       "      <td>-0.197402</td>\n",
       "      <td>-0.233855</td>\n",
       "      <td>-0.128928</td>\n",
       "      <td>...</td>\n",
       "      <td>-0.125459</td>\n",
       "      <td>-0.076865</td>\n",
       "      <td>-0.12884</td>\n",
       "      <td>-0.113375</td>\n",
       "      <td>-0.307966</td>\n",
       "      <td>-0.194012</td>\n",
       "      <td>-0.33129</td>\n",
       "      <td>-0.280903</td>\n",
       "      <td>99</td>\n",
       "      <td>0</td>\n",
       "    </tr>\n",
       "    <tr>\n",
       "      <th>7205</th>\n",
       "      <td>-0.427025</td>\n",
       "      <td>-0.461368</td>\n",
       "      <td>-0.480154</td>\n",
       "      <td>-0.171033</td>\n",
       "      <td>-0.033698</td>\n",
       "      <td>-0.173214</td>\n",
       "      <td>-0.043163</td>\n",
       "      <td>-0.197402</td>\n",
       "      <td>-0.233855</td>\n",
       "      <td>-0.128928</td>\n",
       "      <td>...</td>\n",
       "      <td>-0.125459</td>\n",
       "      <td>-0.076865</td>\n",
       "      <td>-0.12884</td>\n",
       "      <td>-0.113375</td>\n",
       "      <td>-0.307966</td>\n",
       "      <td>-0.194012</td>\n",
       "      <td>-0.33129</td>\n",
       "      <td>-0.280903</td>\n",
       "      <td>99</td>\n",
       "      <td>0</td>\n",
       "    </tr>\n",
       "    <tr>\n",
       "      <th>8042</th>\n",
       "      <td>-0.427025</td>\n",
       "      <td>-0.461368</td>\n",
       "      <td>-0.480149</td>\n",
       "      <td>-0.171033</td>\n",
       "      <td>-0.033698</td>\n",
       "      <td>-0.173234</td>\n",
       "      <td>-0.045363</td>\n",
       "      <td>-0.239918</td>\n",
       "      <td>-0.233855</td>\n",
       "      <td>-0.175254</td>\n",
       "      <td>...</td>\n",
       "      <td>-0.125459</td>\n",
       "      <td>-0.076865</td>\n",
       "      <td>-0.12884</td>\n",
       "      <td>-0.113375</td>\n",
       "      <td>-0.307966</td>\n",
       "      <td>-0.194012</td>\n",
       "      <td>-0.33129</td>\n",
       "      <td>-0.280903</td>\n",
       "      <td>99</td>\n",
       "      <td>0</td>\n",
       "    </tr>\n",
       "    <tr>\n",
       "      <th>3122</th>\n",
       "      <td>-0.427025</td>\n",
       "      <td>-0.461368</td>\n",
       "      <td>-0.480153</td>\n",
       "      <td>-0.171033</td>\n",
       "      <td>-0.033698</td>\n",
       "      <td>-0.173214</td>\n",
       "      <td>-0.043163</td>\n",
       "      <td>-0.197402</td>\n",
       "      <td>-0.233855</td>\n",
       "      <td>-0.128928</td>\n",
       "      <td>...</td>\n",
       "      <td>-0.125459</td>\n",
       "      <td>-0.076865</td>\n",
       "      <td>-0.12884</td>\n",
       "      <td>-0.113375</td>\n",
       "      <td>-0.307966</td>\n",
       "      <td>-0.194012</td>\n",
       "      <td>-0.33129</td>\n",
       "      <td>-0.280903</td>\n",
       "      <td>99</td>\n",
       "      <td>0</td>\n",
       "    </tr>\n",
       "  </tbody>\n",
       "</table>\n",
       "<p>7926 rows × 80 columns</p>\n",
       "</div>"
      ],
      "text/plain": [
       "      Dst Port  Protocol  Flow Duration  Tot Fwd Pkts  Tot Bwd Pkts  \\\n",
       "9009  2.693474 -0.461368      -0.480173     -0.171082     -0.084956   \n",
       "2419  2.580069 -0.461368      -0.480079     -0.171082     -0.084956   \n",
       "2845  2.429283 -0.461368      -0.480176     -0.171033     -0.072141   \n",
       "8272  2.613883 -0.461368      -0.480175     -0.171082     -0.084956   \n",
       "2138  2.566094 -0.461368      -0.480175     -0.171033     -0.072141   \n",
       "...        ...       ...            ...           ...           ...   \n",
       "252  -0.427025 -0.461368      -0.480156     -0.171033     -0.033698   \n",
       "4284 -0.427025 -0.461368      -0.480156     -0.171033     -0.033698   \n",
       "7205 -0.427025 -0.461368      -0.480154     -0.171033     -0.033698   \n",
       "8042 -0.427025 -0.461368      -0.480149     -0.171033     -0.033698   \n",
       "3122 -0.427025 -0.461368      -0.480153     -0.171033     -0.033698   \n",
       "\n",
       "      TotLen Fwd Pkts  TotLen Bwd Pkts  Fwd Pkt Len Max  Fwd Pkt Len Min  \\\n",
       "9009        -0.173458        -0.047546        -0.723948        -0.233855   \n",
       "2419        -0.173458        -0.047546        -0.723948        -0.233855   \n",
       "2845        -0.173411        -0.047546        -0.622563        -0.233855   \n",
       "8272        -0.173458        -0.047546        -0.723948        -0.233855   \n",
       "2138        -0.173411        -0.047546        -0.622563        -0.233855   \n",
       "...               ...              ...              ...              ...   \n",
       "252         -0.173214        -0.043163        -0.197402        -0.233855   \n",
       "4284        -0.173214        -0.043163        -0.197402        -0.233855   \n",
       "7205        -0.173214        -0.043163        -0.197402        -0.233855   \n",
       "8042        -0.173234        -0.045363        -0.239918        -0.233855   \n",
       "3122        -0.173214        -0.043163        -0.197402        -0.233855   \n",
       "\n",
       "      Fwd Pkt Len Mean  ...  Active Mean  Active Std  Active Max  Active Min  \\\n",
       "9009         -0.702657  ...    -0.125459   -0.076865    -0.12884   -0.113375   \n",
       "2419         -0.702657  ...    -0.125459   -0.076865    -0.12884   -0.113375   \n",
       "2845         -0.592188  ...    -0.125459   -0.076865    -0.12884   -0.113375   \n",
       "8272         -0.702657  ...    -0.125459   -0.076865    -0.12884   -0.113375   \n",
       "2138         -0.592188  ...    -0.125459   -0.076865    -0.12884   -0.113375   \n",
       "...                ...  ...          ...         ...         ...         ...   \n",
       "252          -0.128928  ...    -0.125459   -0.076865    -0.12884   -0.113375   \n",
       "4284         -0.128928  ...    -0.125459   -0.076865    -0.12884   -0.113375   \n",
       "7205         -0.128928  ...    -0.125459   -0.076865    -0.12884   -0.113375   \n",
       "8042         -0.175254  ...    -0.125459   -0.076865    -0.12884   -0.113375   \n",
       "3122         -0.128928  ...    -0.125459   -0.076865    -0.12884   -0.113375   \n",
       "\n",
       "      Idle Mean  Idle Std  Idle Max  Idle Min  klabel  Label  \n",
       "9009  -0.307966 -0.194012  -0.33129 -0.280903       0      0  \n",
       "2419  -0.307966 -0.194012  -0.33129 -0.280903       0      0  \n",
       "2845  -0.307966 -0.194012  -0.33129 -0.280903       0      0  \n",
       "8272  -0.307966 -0.194012  -0.33129 -0.280903       0      0  \n",
       "2138  -0.307966 -0.194012  -0.33129 -0.280903       0      0  \n",
       "...         ...       ...       ...       ...     ...    ...  \n",
       "252   -0.307966 -0.194012  -0.33129 -0.280903      99      0  \n",
       "4284  -0.307966 -0.194012  -0.33129 -0.280903      99      0  \n",
       "7205  -0.307966 -0.194012  -0.33129 -0.280903      99      0  \n",
       "8042  -0.307966 -0.194012  -0.33129 -0.280903      99      0  \n",
       "3122  -0.307966 -0.194012  -0.33129 -0.280903      99      0  \n",
       "\n",
       "[7926 rows x 80 columns]"
      ]
     },
     "execution_count": 137,
     "metadata": {},
     "output_type": "execute_result"
    }
   ],
   "source": [
    "result"
   ]
  },
  {
   "cell_type": "code",
   "execution_count": 138,
   "metadata": {},
   "outputs": [],
   "source": [
    "result = result.drop(['klabel'],axis=1)\n",
    "result = pd.concat([result, df_minor], ignore_index=True)"
   ]
  },
  {
   "cell_type": "code",
   "execution_count": 139,
   "metadata": {},
   "outputs": [],
   "source": [
    "result.to_csv('./data/data_km.csv',index=0)"
   ]
  },
  {
   "cell_type": "markdown",
   "metadata": {},
   "source": [
    "### split train set and test set"
   ]
  },
  {
   "cell_type": "code",
   "execution_count": 140,
   "metadata": {},
   "outputs": [],
   "source": [
    "# Read the sampled dataset\n",
    "df=pd.read_csv('./data/data_km.csv')"
   ]
  },
  {
   "cell_type": "code",
   "execution_count": 141,
   "metadata": {},
   "outputs": [
    {
     "data": {
      "text/html": [
       "<div>\n",
       "<style scoped>\n",
       "    .dataframe tbody tr th:only-of-type {\n",
       "        vertical-align: middle;\n",
       "    }\n",
       "\n",
       "    .dataframe tbody tr th {\n",
       "        vertical-align: top;\n",
       "    }\n",
       "\n",
       "    .dataframe thead th {\n",
       "        text-align: right;\n",
       "    }\n",
       "</style>\n",
       "<table border=\"1\" class=\"dataframe\">\n",
       "  <thead>\n",
       "    <tr style=\"text-align: right;\">\n",
       "      <th></th>\n",
       "      <th>Dst Port</th>\n",
       "      <th>Protocol</th>\n",
       "      <th>Flow Duration</th>\n",
       "      <th>Tot Fwd Pkts</th>\n",
       "      <th>Tot Bwd Pkts</th>\n",
       "      <th>TotLen Fwd Pkts</th>\n",
       "      <th>TotLen Bwd Pkts</th>\n",
       "      <th>Fwd Pkt Len Max</th>\n",
       "      <th>Fwd Pkt Len Min</th>\n",
       "      <th>Fwd Pkt Len Mean</th>\n",
       "      <th>...</th>\n",
       "      <th>Fwd Seg Size Min</th>\n",
       "      <th>Active Mean</th>\n",
       "      <th>Active Std</th>\n",
       "      <th>Active Max</th>\n",
       "      <th>Active Min</th>\n",
       "      <th>Idle Mean</th>\n",
       "      <th>Idle Std</th>\n",
       "      <th>Idle Max</th>\n",
       "      <th>Idle Min</th>\n",
       "      <th>Label</th>\n",
       "    </tr>\n",
       "  </thead>\n",
       "  <tbody>\n",
       "    <tr>\n",
       "      <th>0</th>\n",
       "      <td>2.693474</td>\n",
       "      <td>-0.461368</td>\n",
       "      <td>-0.480173</td>\n",
       "      <td>-0.171082</td>\n",
       "      <td>-0.084956</td>\n",
       "      <td>-0.173458</td>\n",
       "      <td>-0.047546</td>\n",
       "      <td>-0.723948</td>\n",
       "      <td>-0.233855</td>\n",
       "      <td>-0.702657</td>\n",
       "      <td>...</td>\n",
       "      <td>-0.212017</td>\n",
       "      <td>-0.125459</td>\n",
       "      <td>-0.076865</td>\n",
       "      <td>-0.12884</td>\n",
       "      <td>-0.113375</td>\n",
       "      <td>-0.307966</td>\n",
       "      <td>-0.194012</td>\n",
       "      <td>-0.33129</td>\n",
       "      <td>-0.280903</td>\n",
       "      <td>0</td>\n",
       "    </tr>\n",
       "    <tr>\n",
       "      <th>1</th>\n",
       "      <td>2.580069</td>\n",
       "      <td>-0.461368</td>\n",
       "      <td>-0.480079</td>\n",
       "      <td>-0.171082</td>\n",
       "      <td>-0.084956</td>\n",
       "      <td>-0.173458</td>\n",
       "      <td>-0.047546</td>\n",
       "      <td>-0.723948</td>\n",
       "      <td>-0.233855</td>\n",
       "      <td>-0.702657</td>\n",
       "      <td>...</td>\n",
       "      <td>-0.212017</td>\n",
       "      <td>-0.125459</td>\n",
       "      <td>-0.076865</td>\n",
       "      <td>-0.12884</td>\n",
       "      <td>-0.113375</td>\n",
       "      <td>-0.307966</td>\n",
       "      <td>-0.194012</td>\n",
       "      <td>-0.33129</td>\n",
       "      <td>-0.280903</td>\n",
       "      <td>0</td>\n",
       "    </tr>\n",
       "    <tr>\n",
       "      <th>2</th>\n",
       "      <td>2.429283</td>\n",
       "      <td>-0.461368</td>\n",
       "      <td>-0.480176</td>\n",
       "      <td>-0.171033</td>\n",
       "      <td>-0.072141</td>\n",
       "      <td>-0.173411</td>\n",
       "      <td>-0.047546</td>\n",
       "      <td>-0.622563</td>\n",
       "      <td>-0.233855</td>\n",
       "      <td>-0.592188</td>\n",
       "      <td>...</td>\n",
       "      <td>-0.212017</td>\n",
       "      <td>-0.125459</td>\n",
       "      <td>-0.076865</td>\n",
       "      <td>-0.12884</td>\n",
       "      <td>-0.113375</td>\n",
       "      <td>-0.307966</td>\n",
       "      <td>-0.194012</td>\n",
       "      <td>-0.33129</td>\n",
       "      <td>-0.280903</td>\n",
       "      <td>0</td>\n",
       "    </tr>\n",
       "    <tr>\n",
       "      <th>3</th>\n",
       "      <td>2.613883</td>\n",
       "      <td>-0.461368</td>\n",
       "      <td>-0.480175</td>\n",
       "      <td>-0.171082</td>\n",
       "      <td>-0.084956</td>\n",
       "      <td>-0.173458</td>\n",
       "      <td>-0.047546</td>\n",
       "      <td>-0.723948</td>\n",
       "      <td>-0.233855</td>\n",
       "      <td>-0.702657</td>\n",
       "      <td>...</td>\n",
       "      <td>-0.212017</td>\n",
       "      <td>-0.125459</td>\n",
       "      <td>-0.076865</td>\n",
       "      <td>-0.12884</td>\n",
       "      <td>-0.113375</td>\n",
       "      <td>-0.307966</td>\n",
       "      <td>-0.194012</td>\n",
       "      <td>-0.33129</td>\n",
       "      <td>-0.280903</td>\n",
       "      <td>0</td>\n",
       "    </tr>\n",
       "    <tr>\n",
       "      <th>4</th>\n",
       "      <td>2.566094</td>\n",
       "      <td>-0.461368</td>\n",
       "      <td>-0.480175</td>\n",
       "      <td>-0.171033</td>\n",
       "      <td>-0.072141</td>\n",
       "      <td>-0.173411</td>\n",
       "      <td>-0.047546</td>\n",
       "      <td>-0.622563</td>\n",
       "      <td>-0.233855</td>\n",
       "      <td>-0.592188</td>\n",
       "      <td>...</td>\n",
       "      <td>-0.212017</td>\n",
       "      <td>-0.125459</td>\n",
       "      <td>-0.076865</td>\n",
       "      <td>-0.12884</td>\n",
       "      <td>-0.113375</td>\n",
       "      <td>-0.307966</td>\n",
       "      <td>-0.194012</td>\n",
       "      <td>-0.33129</td>\n",
       "      <td>-0.280903</td>\n",
       "      <td>0</td>\n",
       "    </tr>\n",
       "    <tr>\n",
       "      <th>...</th>\n",
       "      <td>...</td>\n",
       "      <td>...</td>\n",
       "      <td>...</td>\n",
       "      <td>...</td>\n",
       "      <td>...</td>\n",
       "      <td>...</td>\n",
       "      <td>...</td>\n",
       "      <td>...</td>\n",
       "      <td>...</td>\n",
       "      <td>...</td>\n",
       "      <td>...</td>\n",
       "      <td>...</td>\n",
       "      <td>...</td>\n",
       "      <td>...</td>\n",
       "      <td>...</td>\n",
       "      <td>...</td>\n",
       "      <td>...</td>\n",
       "      <td>...</td>\n",
       "      <td>...</td>\n",
       "      <td>...</td>\n",
       "      <td>...</td>\n",
       "    </tr>\n",
       "    <tr>\n",
       "      <th>8008</th>\n",
       "      <td>-0.427025</td>\n",
       "      <td>-0.461368</td>\n",
       "      <td>-0.340940</td>\n",
       "      <td>-0.170937</td>\n",
       "      <td>-0.020884</td>\n",
       "      <td>-0.171502</td>\n",
       "      <td>-0.034873</td>\n",
       "      <td>1.398587</td>\n",
       "      <td>-0.233855</td>\n",
       "      <td>2.066213</td>\n",
       "      <td>...</td>\n",
       "      <td>-0.212017</td>\n",
       "      <td>-0.125459</td>\n",
       "      <td>-0.076865</td>\n",
       "      <td>-0.12884</td>\n",
       "      <td>-0.113375</td>\n",
       "      <td>-0.307966</td>\n",
       "      <td>-0.194012</td>\n",
       "      <td>-0.33129</td>\n",
       "      <td>-0.280903</td>\n",
       "      <td>12</td>\n",
       "    </tr>\n",
       "    <tr>\n",
       "      <th>8009</th>\n",
       "      <td>-0.427025</td>\n",
       "      <td>-0.461368</td>\n",
       "      <td>-0.342412</td>\n",
       "      <td>-0.170985</td>\n",
       "      <td>-0.033698</td>\n",
       "      <td>-0.172689</td>\n",
       "      <td>-0.044061</td>\n",
       "      <td>0.940721</td>\n",
       "      <td>-0.233855</td>\n",
       "      <td>0.657724</td>\n",
       "      <td>...</td>\n",
       "      <td>-0.212017</td>\n",
       "      <td>-0.125459</td>\n",
       "      <td>-0.076865</td>\n",
       "      <td>-0.12884</td>\n",
       "      <td>-0.113375</td>\n",
       "      <td>-0.307966</td>\n",
       "      <td>-0.194012</td>\n",
       "      <td>-0.33129</td>\n",
       "      <td>-0.280903</td>\n",
       "      <td>12</td>\n",
       "    </tr>\n",
       "    <tr>\n",
       "      <th>8010</th>\n",
       "      <td>-0.427025</td>\n",
       "      <td>-0.461368</td>\n",
       "      <td>-0.480176</td>\n",
       "      <td>-0.171082</td>\n",
       "      <td>-0.084956</td>\n",
       "      <td>-0.173458</td>\n",
       "      <td>-0.047546</td>\n",
       "      <td>-0.723948</td>\n",
       "      <td>-0.233855</td>\n",
       "      <td>-0.702657</td>\n",
       "      <td>...</td>\n",
       "      <td>-0.212017</td>\n",
       "      <td>-0.125459</td>\n",
       "      <td>-0.076865</td>\n",
       "      <td>-0.12884</td>\n",
       "      <td>-0.113375</td>\n",
       "      <td>-0.307966</td>\n",
       "      <td>-0.194012</td>\n",
       "      <td>-0.33129</td>\n",
       "      <td>-0.280903</td>\n",
       "      <td>12</td>\n",
       "    </tr>\n",
       "    <tr>\n",
       "      <th>8011</th>\n",
       "      <td>-0.427025</td>\n",
       "      <td>-0.461368</td>\n",
       "      <td>-0.342375</td>\n",
       "      <td>-0.170937</td>\n",
       "      <td>-0.046513</td>\n",
       "      <td>-0.172521</td>\n",
       "      <td>-0.030814</td>\n",
       "      <td>1.303743</td>\n",
       "      <td>-0.233855</td>\n",
       "      <td>0.622979</td>\n",
       "      <td>...</td>\n",
       "      <td>-0.212017</td>\n",
       "      <td>-0.125459</td>\n",
       "      <td>-0.076865</td>\n",
       "      <td>-0.12884</td>\n",
       "      <td>-0.113375</td>\n",
       "      <td>-0.307966</td>\n",
       "      <td>-0.194012</td>\n",
       "      <td>-0.33129</td>\n",
       "      <td>-0.280903</td>\n",
       "      <td>12</td>\n",
       "    </tr>\n",
       "    <tr>\n",
       "      <th>8012</th>\n",
       "      <td>-0.427025</td>\n",
       "      <td>-0.461368</td>\n",
       "      <td>-0.342141</td>\n",
       "      <td>-0.170937</td>\n",
       "      <td>-0.046513</td>\n",
       "      <td>-0.172603</td>\n",
       "      <td>-0.030787</td>\n",
       "      <td>1.127138</td>\n",
       "      <td>-0.233855</td>\n",
       "      <td>0.507521</td>\n",
       "      <td>...</td>\n",
       "      <td>-0.212017</td>\n",
       "      <td>-0.125459</td>\n",
       "      <td>-0.076865</td>\n",
       "      <td>-0.12884</td>\n",
       "      <td>-0.113375</td>\n",
       "      <td>-0.307966</td>\n",
       "      <td>-0.194012</td>\n",
       "      <td>-0.33129</td>\n",
       "      <td>-0.280903</td>\n",
       "      <td>12</td>\n",
       "    </tr>\n",
       "  </tbody>\n",
       "</table>\n",
       "<p>8013 rows × 79 columns</p>\n",
       "</div>"
      ],
      "text/plain": [
       "      Dst Port  Protocol  Flow Duration  Tot Fwd Pkts  Tot Bwd Pkts  \\\n",
       "0     2.693474 -0.461368      -0.480173     -0.171082     -0.084956   \n",
       "1     2.580069 -0.461368      -0.480079     -0.171082     -0.084956   \n",
       "2     2.429283 -0.461368      -0.480176     -0.171033     -0.072141   \n",
       "3     2.613883 -0.461368      -0.480175     -0.171082     -0.084956   \n",
       "4     2.566094 -0.461368      -0.480175     -0.171033     -0.072141   \n",
       "...        ...       ...            ...           ...           ...   \n",
       "8008 -0.427025 -0.461368      -0.340940     -0.170937     -0.020884   \n",
       "8009 -0.427025 -0.461368      -0.342412     -0.170985     -0.033698   \n",
       "8010 -0.427025 -0.461368      -0.480176     -0.171082     -0.084956   \n",
       "8011 -0.427025 -0.461368      -0.342375     -0.170937     -0.046513   \n",
       "8012 -0.427025 -0.461368      -0.342141     -0.170937     -0.046513   \n",
       "\n",
       "      TotLen Fwd Pkts  TotLen Bwd Pkts  Fwd Pkt Len Max  Fwd Pkt Len Min  \\\n",
       "0           -0.173458        -0.047546        -0.723948        -0.233855   \n",
       "1           -0.173458        -0.047546        -0.723948        -0.233855   \n",
       "2           -0.173411        -0.047546        -0.622563        -0.233855   \n",
       "3           -0.173458        -0.047546        -0.723948        -0.233855   \n",
       "4           -0.173411        -0.047546        -0.622563        -0.233855   \n",
       "...               ...              ...              ...              ...   \n",
       "8008        -0.171502        -0.034873         1.398587        -0.233855   \n",
       "8009        -0.172689        -0.044061         0.940721        -0.233855   \n",
       "8010        -0.173458        -0.047546        -0.723948        -0.233855   \n",
       "8011        -0.172521        -0.030814         1.303743        -0.233855   \n",
       "8012        -0.172603        -0.030787         1.127138        -0.233855   \n",
       "\n",
       "      Fwd Pkt Len Mean  ...  Fwd Seg Size Min  Active Mean  Active Std  \\\n",
       "0            -0.702657  ...         -0.212017    -0.125459   -0.076865   \n",
       "1            -0.702657  ...         -0.212017    -0.125459   -0.076865   \n",
       "2            -0.592188  ...         -0.212017    -0.125459   -0.076865   \n",
       "3            -0.702657  ...         -0.212017    -0.125459   -0.076865   \n",
       "4            -0.592188  ...         -0.212017    -0.125459   -0.076865   \n",
       "...                ...  ...               ...          ...         ...   \n",
       "8008          2.066213  ...         -0.212017    -0.125459   -0.076865   \n",
       "8009          0.657724  ...         -0.212017    -0.125459   -0.076865   \n",
       "8010         -0.702657  ...         -0.212017    -0.125459   -0.076865   \n",
       "8011          0.622979  ...         -0.212017    -0.125459   -0.076865   \n",
       "8012          0.507521  ...         -0.212017    -0.125459   -0.076865   \n",
       "\n",
       "      Active Max  Active Min  Idle Mean  Idle Std  Idle Max  Idle Min  Label  \n",
       "0       -0.12884   -0.113375  -0.307966 -0.194012  -0.33129 -0.280903      0  \n",
       "1       -0.12884   -0.113375  -0.307966 -0.194012  -0.33129 -0.280903      0  \n",
       "2       -0.12884   -0.113375  -0.307966 -0.194012  -0.33129 -0.280903      0  \n",
       "3       -0.12884   -0.113375  -0.307966 -0.194012  -0.33129 -0.280903      0  \n",
       "4       -0.12884   -0.113375  -0.307966 -0.194012  -0.33129 -0.280903      0  \n",
       "...          ...         ...        ...       ...       ...       ...    ...  \n",
       "8008    -0.12884   -0.113375  -0.307966 -0.194012  -0.33129 -0.280903     12  \n",
       "8009    -0.12884   -0.113375  -0.307966 -0.194012  -0.33129 -0.280903     12  \n",
       "8010    -0.12884   -0.113375  -0.307966 -0.194012  -0.33129 -0.280903     12  \n",
       "8011    -0.12884   -0.113375  -0.307966 -0.194012  -0.33129 -0.280903     12  \n",
       "8012    -0.12884   -0.113375  -0.307966 -0.194012  -0.33129 -0.280903     12  \n",
       "\n",
       "[8013 rows x 79 columns]"
      ]
     },
     "execution_count": 141,
     "metadata": {},
     "output_type": "execute_result"
    }
   ],
   "source": [
    "df"
   ]
  },
  {
   "cell_type": "code",
   "execution_count": 142,
   "metadata": {},
   "outputs": [],
   "source": [
    "X = df.drop(['Label'],axis=1).values\n",
    "y = df.iloc[:, -1].values.reshape(-1,1)\n",
    "y=np.ravel(y)"
   ]
  },
  {
   "cell_type": "code",
   "execution_count": 143,
   "metadata": {},
   "outputs": [
    {
     "name": "stdout",
     "output_type": "stream",
     "text": [
      "Phân bố lớp: {0: 3906, 1: 226, 2: 487, 3: 183, 4: 321, 5: 240, 6: 721, 7: 321, 8: 241, 9: 399, 10: 278, 11: 323, 12: 87, 13: 280}\n"
     ]
    }
   ],
   "source": [
    "unique, counts = np.unique(y, return_counts=True)\n",
    "print(\"Phân bố lớp:\", dict(zip(unique, counts)))"
   ]
  },
  {
   "cell_type": "code",
   "execution_count": 144,
   "metadata": {},
   "outputs": [],
   "source": [
    "X_train, X_test, y_train, y_test = train_test_split(X,y, train_size = 0.8, test_size = 0.2, random_state = 0,stratify = y)"
   ]
  },
  {
   "cell_type": "code",
   "execution_count": 145,
   "metadata": {},
   "outputs": [
    {
     "data": {
      "text/plain": [
       "(8013, 78)"
      ]
     },
     "execution_count": 145,
     "metadata": {},
     "output_type": "execute_result"
    }
   ],
   "source": [
    "X.shape\n"
   ]
  },
  {
   "cell_type": "markdown",
   "metadata": {},
   "source": [
    "## Feature engineering"
   ]
  },
  {
   "cell_type": "markdown",
   "metadata": {},
   "source": [
    "### Feature selection by information gain"
   ]
  },
  {
   "cell_type": "code",
   "execution_count": 146,
   "metadata": {},
   "outputs": [],
   "source": [
    "from sklearn.feature_selection import mutual_info_classif\n",
    "importances = mutual_info_classif(X_train, y_train)"
   ]
  },
  {
   "cell_type": "code",
   "execution_count": 147,
   "metadata": {},
   "outputs": [],
   "source": [
    "# calculate the sum of importance scores\n",
    "f_list = sorted(zip(map(lambda x: round(x, 4), importances), features), reverse=True)\n",
    "Sum = 0\n",
    "fs = []\n",
    "for i in range(0, len(f_list)):\n",
    "    Sum = Sum + f_list[i][0]\n",
    "    fs.append(f_list[i][1])"
   ]
  },
  {
   "cell_type": "code",
   "execution_count": 148,
   "metadata": {},
   "outputs": [],
   "source": [
    "# select the important features from top to bottom until the accumulated importance reaches 90%\n",
    "f_list2 = sorted(zip(map(lambda x: round(x, 4), importances/Sum), features), reverse=True)\n",
    "Sum2 = 0\n",
    "fs = []\n",
    "for i in range(0, len(f_list2)):\n",
    "    Sum2 = Sum2 + f_list2[i][0]\n",
    "    fs.append(f_list2[i][1])\n",
    "    if Sum2>=0.9:\n",
    "        break        "
   ]
  },
  {
   "cell_type": "code",
   "execution_count": 149,
   "metadata": {},
   "outputs": [],
   "source": [
    "X_fs = df[fs].values"
   ]
  },
  {
   "cell_type": "code",
   "execution_count": 150,
   "metadata": {},
   "outputs": [
    {
     "data": {
      "text/plain": [
       "(8013, 44)"
      ]
     },
     "execution_count": 150,
     "metadata": {},
     "output_type": "execute_result"
    }
   ],
   "source": [
    "X_fs.shape"
   ]
  },
  {
   "cell_type": "code",
   "execution_count": 151,
   "metadata": {},
   "outputs": [
    {
     "data": {
      "text/plain": [
       "(8013,)"
      ]
     },
     "execution_count": 151,
     "metadata": {},
     "output_type": "execute_result"
    }
   ],
   "source": [
    "y.shape"
   ]
  },
  {
   "cell_type": "markdown",
   "metadata": {},
   "source": [
    "### Feature selection by Fast Correlation Based Filter (FCBF)\n",
    "\n",
    "The module is imported from the GitHub repo: https://github.com/SantiagoEG/FCBF_module"
   ]
  },
  {
   "cell_type": "code",
   "execution_count": 152,
   "metadata": {},
   "outputs": [],
   "source": [
    "from FCBF_module import FCBF, FCBFK, FCBFiP, get_i\n",
    "fcbf = FCBFK(k = 20)\n",
    "#fcbf.fit(X_fs, y)"
   ]
  },
  {
   "cell_type": "code",
   "execution_count": 153,
   "metadata": {},
   "outputs": [],
   "source": [
    "X_fss = fcbf.fit_transform(X_fs,y)"
   ]
  },
  {
   "cell_type": "code",
   "execution_count": 154,
   "metadata": {},
   "outputs": [
    {
     "data": {
      "text/plain": [
       "(8013, 20)"
      ]
     },
     "execution_count": 154,
     "metadata": {},
     "output_type": "execute_result"
    }
   ],
   "source": [
    "X_fss.shape"
   ]
  },
  {
   "cell_type": "markdown",
   "metadata": {},
   "source": [
    "### Re-split train & test sets after feature selection"
   ]
  },
  {
   "cell_type": "code",
   "execution_count": 155,
   "metadata": {},
   "outputs": [],
   "source": [
    "X_train, X_test, y_train, y_test = train_test_split(X_fss,y, train_size = 0.8, test_size = 0.2, random_state = 0,stratify = y)"
   ]
  },
  {
   "cell_type": "code",
   "execution_count": 156,
   "metadata": {},
   "outputs": [
    {
     "data": {
      "text/plain": [
       "(6410, 20)"
      ]
     },
     "execution_count": 156,
     "metadata": {},
     "output_type": "execute_result"
    }
   ],
   "source": [
    "X_train.shape"
   ]
  },
  {
   "cell_type": "code",
   "execution_count": 157,
   "metadata": {},
   "outputs": [
    {
     "data": {
      "text/plain": [
       "0     3125\n",
       "6      577\n",
       "2      389\n",
       "9      319\n",
       "11     258\n",
       "7      257\n",
       "4      257\n",
       "13     224\n",
       "10     222\n",
       "8      193\n",
       "5      192\n",
       "1      181\n",
       "3      146\n",
       "12      70\n",
       "Name: count, dtype: int64"
      ]
     },
     "execution_count": 157,
     "metadata": {},
     "output_type": "execute_result"
    }
   ],
   "source": [
    "pd.Series(y_train).value_counts()"
   ]
  },
  {
   "cell_type": "markdown",
   "metadata": {},
   "source": [
    "### SMOTE to solve class-imbalance"
   ]
  },
  {
   "cell_type": "code",
   "execution_count": 158,
   "metadata": {},
   "outputs": [],
   "source": [
    "from imblearn.over_sampling import SMOTE\n",
    "smote=SMOTE(n_jobs=-1,sampling_strategy={8:200,5:200,1:200,3:200,12:200})"
   ]
  },
  {
   "cell_type": "code",
   "execution_count": 159,
   "metadata": {},
   "outputs": [],
   "source": [
    "X_train, y_train = smote.fit_resample(X_train, y_train)"
   ]
  },
  {
   "cell_type": "code",
   "execution_count": 160,
   "metadata": {},
   "outputs": [
    {
     "data": {
      "text/plain": [
       "0     3125\n",
       "6      577\n",
       "2      389\n",
       "9      319\n",
       "11     258\n",
       "7      257\n",
       "4      257\n",
       "13     224\n",
       "10     222\n",
       "3      200\n",
       "5      200\n",
       "1      200\n",
       "12     200\n",
       "8      200\n",
       "Name: count, dtype: int64"
      ]
     },
     "execution_count": 160,
     "metadata": {},
     "output_type": "execute_result"
    }
   ],
   "source": [
    "pd.Series(y_train).value_counts()"
   ]
  },
  {
   "cell_type": "markdown",
   "metadata": {},
   "source": [
    "## Machine learning model training"
   ]
  },
  {
   "cell_type": "markdown",
   "metadata": {},
   "source": [
    "### Training four base learners: decision tree, random forest, extra trees, XGBoost"
   ]
  },
  {
   "cell_type": "markdown",
   "metadata": {},
   "source": [
    "#### Apply XGBoost"
   ]
  },
  {
   "cell_type": "code",
   "execution_count": 161,
   "metadata": {},
   "outputs": [
    {
     "name": "stdout",
     "output_type": "stream",
     "text": [
      "Accuracy of XGBoost: 0.9307548346849657\n",
      "Precision of XGBoost: 0.9165196020485449\n",
      "Recall of XGBoost: 0.9307548346849657\n",
      "F1-score of XGBoost: 0.9187547467113241\n",
      "              precision    recall  f1-score   support\n",
      "\n",
      "           0       0.92      0.98      0.95       781\n",
      "           1       1.00      1.00      1.00        45\n",
      "           2       0.95      0.98      0.96        98\n",
      "           3       0.97      0.89      0.93        37\n",
      "           4       1.00      0.98      0.99        64\n",
      "           5       1.00      1.00      1.00        48\n",
      "           6       0.99      1.00      1.00       144\n",
      "           7       1.00      1.00      1.00        64\n",
      "           8       0.84      0.56      0.68        48\n",
      "           9       1.00      0.99      0.99        80\n",
      "          10       0.70      0.91      0.79        56\n",
      "          11       0.37      0.11      0.17        65\n",
      "          12       0.92      0.71      0.80        17\n",
      "          13       1.00      1.00      1.00        56\n",
      "\n",
      "    accuracy                           0.93      1603\n",
      "   macro avg       0.91      0.87      0.88      1603\n",
      "weighted avg       0.92      0.93      0.92      1603\n",
      "\n"
     ]
    },
    {
     "data": {
      "image/png": "[encoded data removed]",
      "text/plain": [
       "<Figure size 500x500 with 2 Axes>"
      ]
     },
     "metadata": {},
     "output_type": "display_data"
    }
   ],
   "source": [
    "xg = xgb.XGBClassifier(n_estimators = 10)\n",
    "xg.fit(X_train,y_train)\n",
    "xg_score=xg.score(X_test,y_test)\n",
    "y_predict=xg.predict(X_test)\n",
    "y_true=y_test\n",
    "print('Accuracy of XGBoost: '+ str(xg_score))\n",
    "precision,recall,fscore,none= precision_recall_fscore_support(y_true, y_predict, average='weighted') \n",
    "print('Precision of XGBoost: '+(str(precision)))\n",
    "print('Recall of XGBoost: '+(str(recall)))\n",
    "print('F1-score of XGBoost: '+(str(fscore)))\n",
    "print(classification_report(y_true,y_predict))\n",
    "cm=confusion_matrix(y_true,y_predict)\n",
    "f,ax=plt.subplots(figsize=(5,5))\n",
    "sns.heatmap(cm,annot=True,linewidth=0.5,linecolor=\"red\",fmt=\".0f\",ax=ax)\n",
    "plt.xlabel(\"y_pred\")\n",
    "plt.ylabel(\"y_true\")\n",
    "plt.show()"
   ]
  },
  {
   "cell_type": "markdown",
   "metadata": {},
   "source": [
    "#### Hyperparameter optimization (HPO) of XGBoost using Bayesian optimization with tree-based Parzen estimator (BO-TPE)\n",
    "Based on the GitHub repo for HPO: https://github.com/LiYangHart/Hyperparameter-Optimization-of-Machine-Learning-Algorithms"
   ]
  },
  {
   "cell_type": "code",
   "execution_count": 162,
   "metadata": {},
   "outputs": [
    {
     "name": "stdout",
     "output_type": "stream",
     "text": [
      "  0%|          | 0/20 [00:00<?, ?trial/s, best loss=?]"
     ]
    },
    {
     "name": "stdout",
     "output_type": "stream",
     "text": [
      "100%|██████████| 20/20 [01:12<00:00,  3.61s/trial, best loss: -0.9382407985028073]\n",
      "XGBoost: Hyperopt estimated optimum {'learning_rate': 0.38265721496234933, 'max_depth': 14.0, 'n_estimators': 30.0}\n"
     ]
    }
   ],
   "source": [
    "from hyperopt import hp, fmin, tpe, STATUS_OK, Trials\n",
    "from sklearn.model_selection import cross_val_score, StratifiedKFold\n",
    "def objective(params):\n",
    "    params = {\n",
    "        'n_estimators': int(params['n_estimators']), \n",
    "        'max_depth': int(params['max_depth']),\n",
    "        'learning_rate':  abs(float(params['learning_rate'])),\n",
    "\n",
    "    }\n",
    "    clf = xgb.XGBClassifier( **params)\n",
    "    clf.fit(X_train, y_train)\n",
    "    y_pred = clf.predict(X_test)\n",
    "    score = accuracy_score(y_test, y_pred)\n",
    "\n",
    "    return {'loss':-score, 'status': STATUS_OK }\n",
    "\n",
    "space = {\n",
    "    'n_estimators': hp.quniform('n_estimators', 10, 100, 5),\n",
    "    'max_depth': hp.quniform('max_depth', 4, 100, 1),\n",
    "    'learning_rate': hp.normal('learning_rate', 0.01, 0.9),\n",
    "}\n",
    "\n",
    "best = fmin(fn=objective,\n",
    "            space=space,\n",
    "            algo=tpe.suggest,\n",
    "            max_evals=20)\n",
    "print(\"XGBoost: Hyperopt estimated optimum {}\".format(best))"
   ]
  },
  {
   "cell_type": "code",
   "execution_count": 163,
   "metadata": {},
   "outputs": [
    {
     "name": "stdout",
     "output_type": "stream",
     "text": [
      "Accuracy of XGBoost: 0.9382407985028073\n",
      "Precision of XGBoost: 0.9286034912395116\n",
      "Recall of XGBoost: 0.9382407985028073\n",
      "F1-score of XGBoost: 0.9296593615712828\n",
      "              precision    recall  f1-score   support\n",
      "\n",
      "           0       0.94      0.98      0.96       781\n",
      "           1       1.00      1.00      1.00        45\n",
      "           2       0.96      0.98      0.97        98\n",
      "           3       1.00      1.00      1.00        37\n",
      "           4       1.00      1.00      1.00        64\n",
      "           5       1.00      1.00      1.00        48\n",
      "           6       0.99      1.00      1.00       144\n",
      "           7       1.00      1.00      1.00        64\n",
      "           8       0.82      0.56      0.67        48\n",
      "           9       1.00      0.99      0.99        80\n",
      "          10       0.71      0.91      0.80        56\n",
      "          11       0.48      0.20      0.28        65\n",
      "          12       0.94      0.88      0.91        17\n",
      "          13       1.00      1.00      1.00        56\n",
      "\n",
      "    accuracy                           0.94      1603\n",
      "   macro avg       0.92      0.89      0.90      1603\n",
      "weighted avg       0.93      0.94      0.93      1603\n",
      "\n"
     ]
    },
    {
     "data": {
      "image/png": "[encoded data removed]",
      "text/plain": [
       "<Figure size 500x500 with 2 Axes>"
      ]
     },
     "metadata": {},
     "output_type": "display_data"
    }
   ],
   "source": [
    "xg = xgb.XGBClassifier(learning_rate= 0.38265721496234933, n_estimators = 30, max_depth = 14)\n",
    "xg.fit(X_train,y_train)\n",
    "xg_score=xg.score(X_test,y_test)\n",
    "y_predict=xg.predict(X_test)\n",
    "y_true=y_test\n",
    "print('Accuracy of XGBoost: '+ str(xg_score))\n",
    "precision,recall,fscore,none= precision_recall_fscore_support(y_true, y_predict, average='weighted') \n",
    "print('Precision of XGBoost: '+(str(precision)))\n",
    "print('Recall of XGBoost: '+(str(recall)))\n",
    "print('F1-score of XGBoost: '+(str(fscore)))\n",
    "print(classification_report(y_true,y_predict))\n",
    "cm=confusion_matrix(y_true,y_predict)\n",
    "f,ax=plt.subplots(figsize=(5,5))\n",
    "sns.heatmap(cm,annot=True,linewidth=0.5,linecolor=\"red\",fmt=\".0f\",ax=ax)\n",
    "plt.xlabel(\"y_pred\")\n",
    "plt.ylabel(\"y_true\")\n",
    "plt.show()"
   ]
  },
  {
   "cell_type": "code",
   "execution_count": 164,
   "metadata": {},
   "outputs": [],
   "source": [
    "xg_train=xg.predict(X_train)\n",
    "xg_test=xg.predict(X_test)"
   ]
  },
  {
   "cell_type": "markdown",
   "metadata": {},
   "source": [
    "#### Apply RF"
   ]
  },
  {
   "cell_type": "code",
   "execution_count": 165,
   "metadata": {},
   "outputs": [
    {
     "name": "stdout",
     "output_type": "stream",
     "text": [
      "Accuracy of RF: 0.9276356830941984\n",
      "Precision of RF: 0.9220313640925524\n",
      "Recall of RF: 0.9276356830941984\n",
      "F1-score of RF: 0.9207754686637445\n",
      "              precision    recall  f1-score   support\n",
      "\n",
      "           0       0.93      0.97      0.95       781\n",
      "           1       0.98      1.00      0.99        45\n",
      "           2       0.99      0.97      0.98        98\n",
      "           3       1.00      0.97      0.99        37\n",
      "           4       1.00      1.00      1.00        64\n",
      "           5       1.00      1.00      1.00        48\n",
      "           6       0.99      1.00      1.00       144\n",
      "           7       1.00      1.00      1.00        64\n",
      "           8       0.61      0.94      0.74        48\n",
      "           9       1.00      0.99      0.99        80\n",
      "          10       0.90      0.50      0.64        56\n",
      "          11       0.32      0.18      0.24        65\n",
      "          12       0.85      1.00      0.92        17\n",
      "          13       1.00      1.00      1.00        56\n",
      "\n",
      "    accuracy                           0.93      1603\n",
      "   macro avg       0.90      0.89      0.89      1603\n",
      "weighted avg       0.92      0.93      0.92      1603\n",
      "\n"
     ]
    },
    {
     "data": {
      "image/png": "[encoded data removed]",
      "text/plain": [
       "<Figure size 500x500 with 2 Axes>"
      ]
     },
     "metadata": {},
     "output_type": "display_data"
    }
   ],
   "source": [
    "rf = RandomForestClassifier(random_state = 0)\n",
    "rf.fit(X_train,y_train) \n",
    "rf_score=rf.score(X_test,y_test)\n",
    "y_predict=rf.predict(X_test)\n",
    "y_true=y_test\n",
    "print('Accuracy of RF: '+ str(rf_score))\n",
    "precision,recall,fscore,none= precision_recall_fscore_support(y_true, y_predict, average='weighted') \n",
    "print('Precision of RF: '+(str(precision)))\n",
    "print('Recall of RF: '+(str(recall)))\n",
    "print('F1-score of RF: '+(str(fscore)))\n",
    "print(classification_report(y_true,y_predict))\n",
    "cm=confusion_matrix(y_true,y_predict)\n",
    "f,ax=plt.subplots(figsize=(5,5))\n",
    "sns.heatmap(cm,annot=True,linewidth=0.5,linecolor=\"red\",fmt=\".0f\",ax=ax)\n",
    "plt.xlabel(\"y_pred\")\n",
    "plt.ylabel(\"y_true\")\n",
    "plt.show()"
   ]
  },
  {
   "cell_type": "markdown",
   "metadata": {},
   "source": [
    "#### Hyperparameter optimization (HPO) of random forest using Bayesian optimization with tree-based Parzen estimator (BO-TPE)\n",
    "Based on the GitHub repo for HPO: https://github.com/LiYangHart/Hyperparameter-Optimization-of-Machine-Learning-Algorithms"
   ]
  },
  {
   "cell_type": "code",
   "execution_count": 166,
   "metadata": {},
   "outputs": [
    {
     "name": "stdout",
     "output_type": "stream",
     "text": [
      "  0%|          | 0/20 [00:00<?, ?trial/s, best loss=?]"
     ]
    },
    {
     "name": "stdout",
     "output_type": "stream",
     "text": [
      "100%|██████████| 20/20 [03:56<00:00, 11.82s/trial, best loss: -0.9344978165938864]\n",
      "Random Forest: Hyperopt estimated optimum {'criterion': 0, 'max_depth': 26.0, 'max_features': 5.0, 'min_samples_leaf': 3.0, 'min_samples_split': 2.0, 'n_estimators': 50.0}\n"
     ]
    }
   ],
   "source": [
    "# Hyperparameter optimization of random forest\n",
    "from hyperopt import hp, fmin, tpe, STATUS_OK, Trials\n",
    "from sklearn.model_selection import cross_val_score, StratifiedKFold\n",
    "# Define the objective function\n",
    "def objective(params):\n",
    "    params = {\n",
    "        'n_estimators': int(params['n_estimators']), \n",
    "        'max_depth': int(params['max_depth']),\n",
    "        'max_features': int(params['max_features']),\n",
    "        \"min_samples_split\":int(params['min_samples_split']),\n",
    "        \"min_samples_leaf\":int(params['min_samples_leaf']),\n",
    "        \"criterion\":str(params['criterion'])\n",
    "    }\n",
    "    clf = RandomForestClassifier( **params)\n",
    "    clf.fit(X_train,y_train)\n",
    "    score=clf.score(X_test,y_test)\n",
    "\n",
    "    return {'loss':-score, 'status': STATUS_OK }\n",
    "# Define the hyperparameter configuration space\n",
    "space = {\n",
    "    'n_estimators': hp.quniform('n_estimators', 10, 200, 1),\n",
    "    'max_depth': hp.quniform('max_depth', 5, 50, 1),\n",
    "    \"max_features\":hp.quniform('max_features', 1, 20, 1),\n",
    "    \"min_samples_split\":hp.quniform('min_samples_split',2,11,1),\n",
    "    \"min_samples_leaf\":hp.quniform('min_samples_leaf',1,11,1),\n",
    "    \"criterion\":hp.choice('criterion',['gini','entropy'])\n",
    "}\n",
    "\n",
    "best = fmin(fn=objective,\n",
    "            space=space,\n",
    "            algo=tpe.suggest,\n",
    "            max_evals=20)\n",
    "print(\"Random Forest: Hyperopt estimated optimum {}\".format(best))"
   ]
  },
  {
   "cell_type": "code",
   "execution_count": 167,
   "metadata": {},
   "outputs": [
    {
     "name": "stdout",
     "output_type": "stream",
     "text": [
      "Accuracy of RF: 0.9288833437305053\n",
      "Precision of RF: 0.9145639517272686\n",
      "Recall of RF: 0.9288833437305053\n",
      "F1-score of RF: 0.9169963754173678\n",
      "              precision    recall  f1-score   support\n",
      "\n",
      "           0       0.93      0.98      0.95       781\n",
      "           1       0.96      1.00      0.98        45\n",
      "           2       0.96      0.97      0.96        98\n",
      "           3       1.00      0.92      0.96        37\n",
      "           4       1.00      1.00      1.00        64\n",
      "           5       1.00      1.00      1.00        48\n",
      "           6       0.99      1.00      1.00       144\n",
      "           7       1.00      1.00      1.00        64\n",
      "           8       0.63      0.92      0.75        48\n",
      "           9       1.00      0.99      0.99        80\n",
      "          10       0.86      0.54      0.66        56\n",
      "          11       0.30      0.09      0.14        65\n",
      "          12       0.89      0.94      0.91        17\n",
      "          13       1.00      1.00      1.00        56\n",
      "\n",
      "    accuracy                           0.93      1603\n",
      "   macro avg       0.89      0.88      0.88      1603\n",
      "weighted avg       0.91      0.93      0.92      1603\n",
      "\n"
     ]
    },
    {
     "data": {
      "image/png": "[encoded data removed]",
      "text/plain": [
       "<Figure size 500x500 with 2 Axes>"
      ]
     },
     "metadata": {},
     "output_type": "display_data"
    }
   ],
   "source": [
    "rf_hpo = RandomForestClassifier(n_estimators = 50, min_samples_leaf = 3, max_depth = 26, min_samples_split = 2, max_features = 5, criterion = 'gini')\n",
    "rf_hpo.fit(X_train,y_train)\n",
    "rf_score=rf_hpo.score(X_test,y_test)\n",
    "y_predict=rf_hpo.predict(X_test)\n",
    "y_true=y_test\n",
    "print('Accuracy of RF: '+ str(rf_score))\n",
    "precision,recall,fscore,none= precision_recall_fscore_support(y_true, y_predict, average='weighted') \n",
    "print('Precision of RF: '+(str(precision)))\n",
    "print('Recall of RF: '+(str(recall)))\n",
    "print('F1-score of RF: '+(str(fscore)))\n",
    "print(classification_report(y_true,y_predict))\n",
    "cm=confusion_matrix(y_true,y_predict)\n",
    "f,ax=plt.subplots(figsize=(5,5))\n",
    "sns.heatmap(cm,annot=True,linewidth=0.5,linecolor=\"red\",fmt=\".0f\",ax=ax)\n",
    "plt.xlabel(\"y_pred\")\n",
    "plt.ylabel(\"y_true\")\n",
    "plt.show()"
   ]
  },
  {
   "cell_type": "code",
   "execution_count": 168,
   "metadata": {},
   "outputs": [],
   "source": [
    "rf_train=rf_hpo.predict(X_train)\n",
    "rf_test=rf_hpo.predict(X_test)"
   ]
  },
  {
   "cell_type": "markdown",
   "metadata": {},
   "source": [
    "#### Apply DT"
   ]
  },
  {
   "cell_type": "code",
   "execution_count": 169,
   "metadata": {},
   "outputs": [
    {
     "name": "stdout",
     "output_type": "stream",
     "text": [
      "Accuracy of DT: 0.9064254522769807\n",
      "Precision of DT: 0.9089986595437942\n",
      "Recall of DT: 0.9064254522769807\n",
      "F1-score of DT: 0.9067892816262332\n",
      "              precision    recall  f1-score   support\n",
      "\n",
      "           0       0.93      0.92      0.92       781\n",
      "           1       0.94      1.00      0.97        45\n",
      "           2       0.96      0.99      0.97        98\n",
      "           3       0.95      0.97      0.96        37\n",
      "           4       1.00      0.98      0.99        64\n",
      "           5       1.00      1.00      1.00        48\n",
      "           6       0.99      1.00      1.00       144\n",
      "           7       1.00      1.00      1.00        64\n",
      "           8       0.77      0.56      0.65        48\n",
      "           9       1.00      0.99      0.99        80\n",
      "          10       0.70      0.88      0.78        56\n",
      "          11       0.19      0.20      0.19        65\n",
      "          12       0.89      0.94      0.91        17\n",
      "          13       1.00      1.00      1.00        56\n",
      "\n",
      "    accuracy                           0.91      1603\n",
      "   macro avg       0.88      0.89      0.88      1603\n",
      "weighted avg       0.91      0.91      0.91      1603\n",
      "\n"
     ]
    },
    {
     "data": {
      "image/png": "[encoded data removed]",
      "text/plain": [
       "<Figure size 500x500 with 2 Axes>"
      ]
     },
     "metadata": {},
     "output_type": "display_data"
    }
   ],
   "source": [
    "dt = DecisionTreeClassifier(random_state = 0)\n",
    "dt.fit(X_train,y_train) \n",
    "dt_score=dt.score(X_test,y_test)\n",
    "y_predict=dt.predict(X_test)\n",
    "y_true=y_test\n",
    "print('Accuracy of DT: '+ str(dt_score))\n",
    "precision,recall,fscore,none= precision_recall_fscore_support(y_true, y_predict, average='weighted') \n",
    "print('Precision of DT: '+(str(precision)))\n",
    "print('Recall of DT: '+(str(recall)))\n",
    "print('F1-score of DT: '+(str(fscore)))\n",
    "print(classification_report(y_true,y_predict))\n",
    "cm=confusion_matrix(y_true,y_predict)\n",
    "f,ax=plt.subplots(figsize=(5,5))\n",
    "sns.heatmap(cm,annot=True,linewidth=0.5,linecolor=\"red\",fmt=\".0f\",ax=ax)\n",
    "plt.xlabel(\"y_pred\")\n",
    "plt.ylabel(\"y_true\")\n",
    "plt.show()"
   ]
  },
  {
   "cell_type": "markdown",
   "metadata": {},
   "source": [
    "#### Hyperparameter optimization (HPO) of decision tree using Bayesian optimization with tree-based Parzen estimator (BO-TPE)\n",
    "Based on the GitHub repo for HPO: https://github.com/LiYangHart/Hyperparameter-Optimization-of-Machine-Learning-Algorithms"
   ]
  },
  {
   "cell_type": "code",
   "execution_count": 170,
   "metadata": {},
   "outputs": [
    {
     "name": "stdout",
     "output_type": "stream",
     "text": [
      "  0%|          | 0/50 [00:00<?, ?trial/s, best loss=?]"
     ]
    },
    {
     "name": "stdout",
     "output_type": "stream",
     "text": [
      "100%|██████████| 50/50 [00:11<00:00,  4.40trial/s, best loss: -0.9276356830941984]\n",
      "Decision tree: Hyperopt estimated optimum {'criterion': 1, 'max_depth': 13.0, 'max_features': 16.0, 'min_samples_leaf': 4.0, 'min_samples_split': 9.0}\n"
     ]
    }
   ],
   "source": [
    "# Hyperparameter optimization of decision tree\n",
    "from hyperopt import hp, fmin, tpe, STATUS_OK, Trials\n",
    "from sklearn.model_selection import cross_val_score, StratifiedKFold\n",
    "# Define the objective function\n",
    "def objective(params):\n",
    "    params = {\n",
    "        'max_depth': int(params['max_depth']),\n",
    "        'max_features': int(params['max_features']),\n",
    "        \"min_samples_split\":int(params['min_samples_split']),\n",
    "        \"min_samples_leaf\":int(params['min_samples_leaf']),\n",
    "        \"criterion\":str(params['criterion'])\n",
    "    }\n",
    "    clf = DecisionTreeClassifier( **params)\n",
    "    clf.fit(X_train,y_train)\n",
    "    score=clf.score(X_test,y_test)\n",
    "\n",
    "    return {'loss':-score, 'status': STATUS_OK }\n",
    "# Define the hyperparameter configuration space\n",
    "space = {\n",
    "    'max_depth': hp.quniform('max_depth', 5, 50, 1),\n",
    "    \"max_features\":hp.quniform('max_features', 1, 20, 1),\n",
    "    \"min_samples_split\":hp.quniform('min_samples_split',2,11,1),\n",
    "    \"min_samples_leaf\":hp.quniform('min_samples_leaf',1,11,1),\n",
    "    \"criterion\":hp.choice('criterion',['gini','entropy'])\n",
    "}\n",
    "\n",
    "best = fmin(fn=objective,\n",
    "            space=space,\n",
    "            algo=tpe.suggest,\n",
    "            max_evals=50)\n",
    "print(\"Decision tree: Hyperopt estimated optimum {}\".format(best))"
   ]
  },
  {
   "cell_type": "code",
   "execution_count": 171,
   "metadata": {},
   "outputs": [
    {
     "name": "stdout",
     "output_type": "stream",
     "text": [
      "Accuracy of DT: 0.9189020586400499\n",
      "Precision of DT: 0.8982821809615993\n",
      "Recall of DT: 0.9189020586400499\n",
      "F1-score of DT: 0.903015532891637\n",
      "              precision    recall  f1-score   support\n",
      "\n",
      "           0       0.92      0.97      0.94       781\n",
      "           1       1.00      1.00      1.00        45\n",
      "           2       0.92      0.97      0.95        98\n",
      "           3       0.97      0.89      0.93        37\n",
      "           4       1.00      0.97      0.98        64\n",
      "           5       1.00      1.00      1.00        48\n",
      "           6       0.99      1.00      1.00       144\n",
      "           7       0.98      0.98      0.98        64\n",
      "           8       0.87      0.42      0.56        48\n",
      "           9       0.99      0.99      0.99        80\n",
      "          10       0.65      0.95      0.77        56\n",
      "          11       0.15      0.03      0.05        65\n",
      "          12       0.68      0.76      0.72        17\n",
      "          13       1.00      0.98      0.99        56\n",
      "\n",
      "    accuracy                           0.92      1603\n",
      "   macro avg       0.87      0.85      0.85      1603\n",
      "weighted avg       0.90      0.92      0.90      1603\n",
      "\n"
     ]
    },
    {
     "data": {
      "image/png": "[encoded data removed]",
      "text/plain": [
       "<Figure size 500x500 with 2 Axes>"
      ]
     },
     "metadata": {},
     "output_type": "display_data"
    }
   ],
   "source": [
    "dt_hpo = DecisionTreeClassifier(min_samples_leaf = 4, max_depth = 13, min_samples_split = 9, max_features = 16, criterion = 'entropy')\n",
    "dt_hpo.fit(X_train,y_train)\n",
    "dt_score=dt_hpo.score(X_test,y_test)\n",
    "y_predict=dt_hpo.predict(X_test)\n",
    "y_true=y_test\n",
    "print('Accuracy of DT: '+ str(dt_score))\n",
    "precision,recall,fscore,none= precision_recall_fscore_support(y_true, y_predict, average='weighted') \n",
    "print('Precision of DT: '+(str(precision)))\n",
    "print('Recall of DT: '+(str(recall)))\n",
    "print('F1-score of DT: '+(str(fscore)))\n",
    "print(classification_report(y_true,y_predict))\n",
    "cm=confusion_matrix(y_true,y_predict)\n",
    "f,ax=plt.subplots(figsize=(5,5))\n",
    "sns.heatmap(cm,annot=True,linewidth=0.5,linecolor=\"red\",fmt=\".0f\",ax=ax)\n",
    "plt.xlabel(\"y_pred\")\n",
    "plt.ylabel(\"y_true\")\n",
    "plt.show()"
   ]
  },
  {
   "cell_type": "code",
   "execution_count": 172,
   "metadata": {},
   "outputs": [],
   "source": [
    "dt_train=dt_hpo.predict(X_train)\n",
    "dt_test=dt_hpo.predict(X_test)"
   ]
  },
  {
   "cell_type": "markdown",
   "metadata": {},
   "source": [
    "#### Apply ET"
   ]
  },
  {
   "cell_type": "code",
   "execution_count": 173,
   "metadata": {},
   "outputs": [
    {
     "name": "stdout",
     "output_type": "stream",
     "text": [
      "Accuracy of ET: 0.9276356830941984\n",
      "Precision of ET: 0.9194516769692926\n",
      "Recall of ET: 0.9276356830941984\n",
      "F1-score of ET: 0.9221210870811563\n",
      "              precision    recall  f1-score   support\n",
      "\n",
      "           0       0.94      0.96      0.95       781\n",
      "           1       1.00      1.00      1.00        45\n",
      "           2       0.96      0.98      0.97        98\n",
      "           3       1.00      0.95      0.97        37\n",
      "           4       1.00      1.00      1.00        64\n",
      "           5       1.00      1.00      1.00        48\n",
      "           6       0.99      1.00      1.00       144\n",
      "           7       1.00      1.00      1.00        64\n",
      "           8       0.77      0.56      0.65        48\n",
      "           9       1.00      0.99      0.99        80\n",
      "          10       0.70      0.88      0.78        56\n",
      "          11       0.31      0.20      0.24        65\n",
      "          12       0.89      0.94      0.91        17\n",
      "          13       1.00      1.00      1.00        56\n",
      "\n",
      "    accuracy                           0.93      1603\n",
      "   macro avg       0.90      0.89      0.89      1603\n",
      "weighted avg       0.92      0.93      0.92      1603\n",
      "\n"
     ]
    },
    {
     "data": {
      "image/png": "[encoded data removed]",
      "text/plain": [
       "<Figure size 500x500 with 2 Axes>"
      ]
     },
     "metadata": {},
     "output_type": "display_data"
    }
   ],
   "source": [
    "et = ExtraTreesClassifier(random_state = 0)\n",
    "et.fit(X_train,y_train) \n",
    "et_score=et.score(X_test,y_test)\n",
    "y_predict=et.predict(X_test)\n",
    "y_true=y_test\n",
    "print('Accuracy of ET: '+ str(et_score))\n",
    "precision,recall,fscore,none= precision_recall_fscore_support(y_true, y_predict, average='weighted') \n",
    "print('Precision of ET: '+(str(precision)))\n",
    "print('Recall of ET: '+(str(recall)))\n",
    "print('F1-score of ET: '+(str(fscore)))\n",
    "print(classification_report(y_true,y_predict))\n",
    "cm=confusion_matrix(y_true,y_predict)\n",
    "f,ax=plt.subplots(figsize=(5,5))\n",
    "sns.heatmap(cm,annot=True,linewidth=0.5,linecolor=\"red\",fmt=\".0f\",ax=ax)\n",
    "plt.xlabel(\"y_pred\")\n",
    "plt.ylabel(\"y_true\")\n",
    "plt.show()"
   ]
  },
  {
   "cell_type": "markdown",
   "metadata": {},
   "source": [
    "#### Hyperparameter optimization (HPO) of extra trees using Bayesian optimization with tree-based Parzen estimator (BO-TPE)\n",
    "Based on the GitHub repo for HPO: https://github.com/LiYangHart/Hyperparameter-Optimization-of-Machine-Learning-Algorithms"
   ]
  },
  {
   "cell_type": "code",
   "execution_count": 174,
   "metadata": {},
   "outputs": [
    {
     "name": "stdout",
     "output_type": "stream",
     "text": [
      "  0%|          | 0/20 [00:00<?, ?trial/s, best loss=?]"
     ]
    },
    {
     "name": "stdout",
     "output_type": "stream",
     "text": [
      "100%|██████████| 20/20 [00:47<00:00,  2.39s/trial, best loss: -0.932626325639426] \n",
      "Random Forest: Hyperopt estimated optimum {'criterion': 1, 'max_depth': 35.0, 'max_features': 16.0, 'min_samples_leaf': 2.0, 'min_samples_split': 9.0, 'n_estimators': 199.0}\n"
     ]
    }
   ],
   "source": [
    "# Hyperparameter optimization of extra trees\n",
    "from hyperopt import hp, fmin, tpe, STATUS_OK, Trials\n",
    "from sklearn.model_selection import cross_val_score, StratifiedKFold\n",
    "# Define the objective function\n",
    "def objective(params):\n",
    "    params = {\n",
    "        'n_estimators': int(params['n_estimators']), \n",
    "        'max_depth': int(params['max_depth']),\n",
    "        'max_features': int(params['max_features']),\n",
    "        \"min_samples_split\":int(params['min_samples_split']),\n",
    "        \"min_samples_leaf\":int(params['min_samples_leaf']),\n",
    "        \"criterion\":str(params['criterion'])\n",
    "    }\n",
    "    clf = ExtraTreesClassifier( **params)\n",
    "    clf.fit(X_train,y_train)\n",
    "    score=clf.score(X_test,y_test)\n",
    "\n",
    "    return {'loss':-score, 'status': STATUS_OK }\n",
    "# Define the hyperparameter configuration space\n",
    "space = {\n",
    "    'n_estimators': hp.quniform('n_estimators', 10, 200, 1),\n",
    "    'max_depth': hp.quniform('max_depth', 5, 50, 1),\n",
    "    \"max_features\":hp.quniform('max_features', 1, 20, 1),\n",
    "    \"min_samples_split\":hp.quniform('min_samples_split',2,11,1),\n",
    "    \"min_samples_leaf\":hp.quniform('min_samples_leaf',1,11,1),\n",
    "    \"criterion\":hp.choice('criterion',['gini','entropy'])\n",
    "}\n",
    "\n",
    "best = fmin(fn=objective,\n",
    "            space=space,\n",
    "            algo=tpe.suggest,\n",
    "            max_evals=20)\n",
    "print(\"Random Forest: Hyperopt estimated optimum {}\".format(best))"
   ]
  },
  {
   "cell_type": "code",
   "execution_count": 175,
   "metadata": {},
   "outputs": [
    {
     "name": "stdout",
     "output_type": "stream",
     "text": [
      "Accuracy of ET: 0.9313786650031192\n",
      "Precision of ET: 0.9186186885569828\n",
      "Recall of ET: 0.9313786650031192\n",
      "F1-score of ET: 0.9212867605138245\n",
      "              precision    recall  f1-score   support\n",
      "\n",
      "           0       0.93      0.98      0.95       781\n",
      "           1       1.00      1.00      1.00        45\n",
      "           2       0.93      0.95      0.94        98\n",
      "           3       1.00      0.92      0.96        37\n",
      "           4       1.00      1.00      1.00        64\n",
      "           5       1.00      1.00      1.00        48\n",
      "           6       0.99      1.00      1.00       144\n",
      "           7       1.00      1.00      1.00        64\n",
      "           8       0.82      0.56      0.67        48\n",
      "           9       1.00      0.99      0.99        80\n",
      "          10       0.71      0.91      0.80        56\n",
      "          11       0.38      0.14      0.20        65\n",
      "          12       0.79      0.88      0.83        17\n",
      "          13       1.00      1.00      1.00        56\n",
      "\n",
      "    accuracy                           0.93      1603\n",
      "   macro avg       0.90      0.88      0.88      1603\n",
      "weighted avg       0.92      0.93      0.92      1603\n",
      "\n"
     ]
    },
    {
     "data": {
      "image/png": "[encoded data removed]",
      "text/plain": [
       "<Figure size 500x500 with 2 Axes>"
      ]
     },
     "metadata": {},
     "output_type": "display_data"
    }
   ],
   "source": [
    "et_hpo = ExtraTreesClassifier(n_estimators = 199, min_samples_leaf = 2, max_depth = 35, min_samples_split = 9, max_features = 16, criterion = 'entropy')\n",
    "et_hpo.fit(X_train,y_train) \n",
    "et_score=et_hpo.score(X_test,y_test)\n",
    "y_predict=et_hpo.predict(X_test)\n",
    "y_true=y_test\n",
    "print('Accuracy of ET: '+ str(et_score))\n",
    "precision,recall,fscore,none= precision_recall_fscore_support(y_true, y_predict, average='weighted') \n",
    "print('Precision of ET: '+(str(precision)))\n",
    "print('Recall of ET: '+(str(recall)))\n",
    "print('F1-score of ET: '+(str(fscore)))\n",
    "print(classification_report(y_true,y_predict))\n",
    "cm=confusion_matrix(y_true,y_predict)\n",
    "f,ax=plt.subplots(figsize=(5,5))\n",
    "sns.heatmap(cm,annot=True,linewidth=0.5,linecolor=\"red\",fmt=\".0f\",ax=ax)\n",
    "plt.xlabel(\"y_pred\")\n",
    "plt.ylabel(\"y_true\")\n",
    "plt.show()"
   ]
  },
  {
   "cell_type": "code",
   "execution_count": 176,
   "metadata": {},
   "outputs": [],
   "source": [
    "et_train=et_hpo.predict(X_train)\n",
    "et_test=et_hpo.predict(X_test)"
   ]
  },
  {
   "cell_type": "markdown",
   "metadata": {},
   "source": [
    "### Apply Stacking\n",
    "The ensemble model that combines the four ML models (DT, RF, ET, XGBoost)"
   ]
  },
  {
   "cell_type": "code",
   "execution_count": 177,
   "metadata": {},
   "outputs": [
    {
     "data": {
      "text/html": [
       "<div>\n",
       "<style scoped>\n",
       "    .dataframe tbody tr th:only-of-type {\n",
       "        vertical-align: middle;\n",
       "    }\n",
       "\n",
       "    .dataframe tbody tr th {\n",
       "        vertical-align: top;\n",
       "    }\n",
       "\n",
       "    .dataframe thead th {\n",
       "        text-align: right;\n",
       "    }\n",
       "</style>\n",
       "<table border=\"1\" class=\"dataframe\">\n",
       "  <thead>\n",
       "    <tr style=\"text-align: right;\">\n",
       "      <th></th>\n",
       "      <th>DecisionTree</th>\n",
       "      <th>RandomForest</th>\n",
       "      <th>ExtraTrees</th>\n",
       "      <th>XgBoost</th>\n",
       "    </tr>\n",
       "  </thead>\n",
       "  <tbody>\n",
       "    <tr>\n",
       "      <th>0</th>\n",
       "      <td>0</td>\n",
       "      <td>0</td>\n",
       "      <td>0</td>\n",
       "      <td>0</td>\n",
       "    </tr>\n",
       "    <tr>\n",
       "      <th>1</th>\n",
       "      <td>0</td>\n",
       "      <td>0</td>\n",
       "      <td>0</td>\n",
       "      <td>0</td>\n",
       "    </tr>\n",
       "    <tr>\n",
       "      <th>2</th>\n",
       "      <td>3</td>\n",
       "      <td>3</td>\n",
       "      <td>3</td>\n",
       "      <td>3</td>\n",
       "    </tr>\n",
       "    <tr>\n",
       "      <th>3</th>\n",
       "      <td>0</td>\n",
       "      <td>0</td>\n",
       "      <td>0</td>\n",
       "      <td>11</td>\n",
       "    </tr>\n",
       "    <tr>\n",
       "      <th>4</th>\n",
       "      <td>0</td>\n",
       "      <td>0</td>\n",
       "      <td>0</td>\n",
       "      <td>0</td>\n",
       "    </tr>\n",
       "  </tbody>\n",
       "</table>\n",
       "</div>"
      ],
      "text/plain": [
       "   DecisionTree  RandomForest  ExtraTrees  XgBoost\n",
       "0             0             0           0        0\n",
       "1             0             0           0        0\n",
       "2             3             3           3        3\n",
       "3             0             0           0       11\n",
       "4             0             0           0        0"
      ]
     },
     "execution_count": 177,
     "metadata": {},
     "output_type": "execute_result"
    }
   ],
   "source": [
    "base_predictions_train = pd.DataFrame( {\n",
    "    'DecisionTree': dt_train.ravel(),\n",
    "        'RandomForest': rf_train.ravel(),\n",
    "     'ExtraTrees': et_train.ravel(),\n",
    "     'XgBoost': xg_train.ravel(),\n",
    "    })\n",
    "base_predictions_train.head(5)"
   ]
  },
  {
   "cell_type": "code",
   "execution_count": 178,
   "metadata": {},
   "outputs": [],
   "source": [
    "dt_train=dt_train.reshape(-1, 1)\n",
    "et_train=et_train.reshape(-1, 1)\n",
    "rf_train=rf_train.reshape(-1, 1)\n",
    "xg_train=xg_train.reshape(-1, 1)\n",
    "dt_test=dt_test.reshape(-1, 1)\n",
    "et_test=et_test.reshape(-1, 1)\n",
    "rf_test=rf_test.reshape(-1, 1)\n",
    "xg_test=xg_test.reshape(-1, 1)"
   ]
  },
  {
   "cell_type": "code",
   "execution_count": 179,
   "metadata": {},
   "outputs": [
    {
     "data": {
      "text/plain": [
       "(6628, 1)"
      ]
     },
     "execution_count": 179,
     "metadata": {},
     "output_type": "execute_result"
    }
   ],
   "source": [
    "dt_train.shape"
   ]
  },
  {
   "cell_type": "code",
   "execution_count": 180,
   "metadata": {},
   "outputs": [],
   "source": [
    "x_train = np.concatenate(( dt_train, et_train, rf_train, xg_train), axis=1)\n",
    "x_test = np.concatenate(( dt_test, et_test, rf_test, xg_test), axis=1)"
   ]
  },
  {
   "cell_type": "code",
   "execution_count": 181,
   "metadata": {},
   "outputs": [
    {
     "name": "stdout",
     "output_type": "stream",
     "text": [
      "Accuracy of Stacking: 0.9363693075483468\n",
      "Precision of Stacking: 0.9265628609767051\n",
      "Recall of Stacking: 0.9363693075483468\n",
      "F1-score of Stacking: 0.9285274302463387\n",
      "              precision    recall  f1-score   support\n",
      "\n",
      "           0       0.94      0.98      0.96       781\n",
      "           1       1.00      1.00      1.00        45\n",
      "           2       0.97      0.98      0.97        98\n",
      "           3       1.00      1.00      1.00        37\n",
      "           4       1.00      1.00      1.00        64\n",
      "           5       1.00      1.00      1.00        48\n",
      "           6       0.99      1.00      1.00       144\n",
      "           7       1.00      1.00      1.00        64\n",
      "           8       0.82      0.56      0.67        48\n",
      "           9       1.00      0.99      0.99        80\n",
      "          10       0.71      0.91      0.80        56\n",
      "          11       0.42      0.20      0.27        65\n",
      "          12       0.94      0.88      0.91        17\n",
      "          13       1.00      1.00      1.00        56\n",
      "\n",
      "    accuracy                           0.94      1603\n",
      "   macro avg       0.91      0.89      0.90      1603\n",
      "weighted avg       0.93      0.94      0.93      1603\n",
      "\n"
     ]
    },
    {
     "data": {
      "image/png": "[encoded data removed]",
      "text/plain": [
       "<Figure size 500x500 with 2 Axes>"
      ]
     },
     "metadata": {},
     "output_type": "display_data"
    }
   ],
   "source": [
    "stk = xgb.XGBClassifier().fit(x_train, y_train)\n",
    "y_predict=stk.predict(x_test)\n",
    "y_true=y_test\n",
    "stk_score=accuracy_score(y_true,y_predict)\n",
    "print('Accuracy of Stacking: '+ str(stk_score))\n",
    "precision,recall,fscore,none= precision_recall_fscore_support(y_true, y_predict, average='weighted') \n",
    "print('Precision of Stacking: '+(str(precision)))\n",
    "print('Recall of Stacking: '+(str(recall)))\n",
    "print('F1-score of Stacking: '+(str(fscore)))\n",
    "print(classification_report(y_true,y_predict))\n",
    "cm=confusion_matrix(y_true,y_predict)\n",
    "f,ax=plt.subplots(figsize=(5,5))\n",
    "sns.heatmap(cm,annot=True,linewidth=0.5,linecolor=\"red\",fmt=\".0f\",ax=ax)\n",
    "plt.xlabel(\"y_pred\")\n",
    "plt.ylabel(\"y_true\")\n",
    "plt.show()"
   ]
  },
  {
   "cell_type": "markdown",
   "metadata": {},
   "source": [
    "#### Hyperparameter optimization (HPO) of the stacking ensemble model (XGBoost) using Bayesian optimization with tree-based Parzen estimator (BO-TPE)\n",
    "Based on the GitHub repo for HPO: https://github.com/LiYangHart/Hyperparameter-Optimization-of-Machine-Learning-Algorithms"
   ]
  },
  {
   "cell_type": "code",
   "execution_count": 182,
   "metadata": {},
   "outputs": [
    {
     "name": "stdout",
     "output_type": "stream",
     "text": [
      "100%|██████████| 20/20 [00:38<00:00,  1.90s/trial, best loss: -0.9363693075483468]\n",
      "XGBoost: Hyperopt estimated optimum {'learning_rate': 0.6842020827873456, 'max_depth': 62.0, 'n_estimators': 80.0}\n"
     ]
    }
   ],
   "source": [
    "from hyperopt import hp, fmin, tpe, STATUS_OK, Trials\n",
    "from sklearn.model_selection import cross_val_score, StratifiedKFold\n",
    "def objective(params):\n",
    "    params = {\n",
    "        'n_estimators': int(params['n_estimators']), \n",
    "        'max_depth': int(params['max_depth']),\n",
    "        'learning_rate':  abs(float(params['learning_rate'])),\n",
    "\n",
    "    }\n",
    "    clf = xgb.XGBClassifier( **params)\n",
    "    clf.fit(x_train, y_train)\n",
    "    y_pred = clf.predict(x_test)\n",
    "    score = accuracy_score(y_test, y_pred)\n",
    "\n",
    "    return {'loss':-score, 'status': STATUS_OK }\n",
    "\n",
    "space = {\n",
    "    'n_estimators': hp.quniform('n_estimators', 10, 100, 5),\n",
    "    'max_depth': hp.quniform('max_depth', 4, 100, 1),\n",
    "    'learning_rate': hp.normal('learning_rate', 0.01, 0.9),\n",
    "}\n",
    "\n",
    "best = fmin(fn=objective,\n",
    "            space=space,\n",
    "            algo=tpe.suggest,\n",
    "            max_evals=20)\n",
    "print(\"XGBoost: Hyperopt estimated optimum {}\".format(best))"
   ]
  },
  {
   "cell_type": "code",
   "execution_count": 183,
   "metadata": {},
   "outputs": [
    {
     "name": "stdout",
     "output_type": "stream",
     "text": [
      "Accuracy of XGBoost: 0.9363693075483468\n",
      "Precision of XGBoost: 0.9265628609767051\n",
      "Recall of XGBoost: 0.9363693075483468\n",
      "F1-score of XGBoost: 0.9285274302463387\n",
      "              precision    recall  f1-score   support\n",
      "\n",
      "           0       0.94      0.98      0.96       781\n",
      "           1       1.00      1.00      1.00        45\n",
      "           2       0.97      0.98      0.97        98\n",
      "           3       1.00      1.00      1.00        37\n",
      "           4       1.00      1.00      1.00        64\n",
      "           5       1.00      1.00      1.00        48\n",
      "           6       0.99      1.00      1.00       144\n",
      "           7       1.00      1.00      1.00        64\n",
      "           8       0.82      0.56      0.67        48\n",
      "           9       1.00      0.99      0.99        80\n",
      "          10       0.71      0.91      0.80        56\n",
      "          11       0.42      0.20      0.27        65\n",
      "          12       0.94      0.88      0.91        17\n",
      "          13       1.00      1.00      1.00        56\n",
      "\n",
      "    accuracy                           0.94      1603\n",
      "   macro avg       0.91      0.89      0.90      1603\n",
      "weighted avg       0.93      0.94      0.93      1603\n",
      "\n"
     ]
    },
    {
     "data": {
      "image/png": "[encoded data removed]",
      "text/plain": [
       "<Figure size 500x500 with 2 Axes>"
      ]
     },
     "metadata": {},
     "output_type": "display_data"
    }
   ],
   "source": [
    "xg = xgb.XGBClassifier(learning_rate= 0.6842020827873456, n_estimators = 80, max_depth = 62)\n",
    "xg.fit(x_train,y_train)\n",
    "xg_score=xg.score(x_test,y_test)\n",
    "y_predict=xg.predict(x_test)\n",
    "y_true=y_test\n",
    "print('Accuracy of XGBoost: '+ str(xg_score))\n",
    "precision,recall,fscore,none= precision_recall_fscore_support(y_true, y_predict, average='weighted') \n",
    "print('Precision of XGBoost: '+(str(precision)))\n",
    "print('Recall of XGBoost: '+(str(recall)))\n",
    "print('F1-score of XGBoost: '+(str(fscore)))\n",
    "print(classification_report(y_true,y_predict))\n",
    "cm=confusion_matrix(y_true,y_predict)\n",
    "f,ax=plt.subplots(figsize=(5,5))\n",
    "sns.heatmap(cm,annot=True,linewidth=0.5,linecolor=\"red\",fmt=\".0f\",ax=ax)\n",
    "plt.xlabel(\"y_pred\")\n",
    "plt.ylabel(\"y_true\")\n",
    "plt.show()"
   ]
  },
  {
   "cell_type": "markdown",
   "metadata": {},
   "source": [
    "## Anomaly-based IDS"
   ]
  },
  {
   "cell_type": "markdown",
   "metadata": {},
   "source": [
    "### Generate the BOT datasets for unknown attack detection"
   ]
  },
  {
   "cell_type": "code",
   "execution_count": 193,
   "metadata": {},
   "outputs": [],
   "source": [
    "df=pd.read_csv('./data/data_km.csv')"
   ]
  },
  {
   "cell_type": "code",
   "execution_count": 194,
   "metadata": {},
   "outputs": [
    {
     "data": {
      "text/plain": [
       "Label\n",
       "0     3906\n",
       "6      721\n",
       "2      487\n",
       "9      399\n",
       "11     323\n",
       "4      321\n",
       "7      321\n",
       "13     280\n",
       "10     278\n",
       "8      241\n",
       "5      240\n",
       "1      226\n",
       "3      183\n",
       "12      87\n",
       "Name: count, dtype: int64"
      ]
     },
     "execution_count": 194,
     "metadata": {},
     "output_type": "execute_result"
    }
   ],
   "source": [
    "df.Label.value_counts()"
   ]
  },
  {
   "cell_type": "code",
   "execution_count": 195,
   "metadata": {},
   "outputs": [],
   "source": [
    "df1 = df[df['Label'] != 1]\n",
    "df1['Label'][df1['Label'] > 0] = 1\n",
    "df1.to_csv('./data/data_km_without_bot.csv',index=0)"
   ]
  },
  {
   "cell_type": "code",
   "execution_count": 196,
   "metadata": {},
   "outputs": [],
   "source": [
    "df2 = df[df['Label'] == 1]\n",
    "df2['Label'][df2['Label'] == 1] = 1\n",
    "df2.to_csv('./data/data_km_bot.csv',index=0)"
   ]
  },
  {
   "cell_type": "markdown",
   "metadata": {},
   "source": [
    "### Read the generated datasets for unknown attack detection"
   ]
  },
  {
   "cell_type": "code",
   "execution_count": 197,
   "metadata": {},
   "outputs": [],
   "source": [
    "df1 = pd.read_csv('./data/data_km_without_bot.csv')\n",
    "df2 = pd.read_csv('./data/data_km_bot.csv')"
   ]
  },
  {
   "cell_type": "code",
   "execution_count": 198,
   "metadata": {},
   "outputs": [],
   "source": [
    "features = df1.drop(['Label'],axis=1).dtypes[df1.dtypes != 'object'].index\n",
    "df1[features] = df1[features].apply(\n",
    "    lambda x: (x - x.mean()) / (x.std()))\n",
    "df2[features] = df2[features].apply(\n",
    "    lambda x: (x - x.mean()) / (x.std()))\n",
    "df1 = df1.fillna(0)\n",
    "df2 = df2.fillna(0)"
   ]
  },
  {
   "cell_type": "code",
   "execution_count": 199,
   "metadata": {},
   "outputs": [
    {
     "data": {
      "text/plain": [
       "Label\n",
       "0    3906\n",
       "1    3881\n",
       "Name: count, dtype: int64"
      ]
     },
     "execution_count": 199,
     "metadata": {},
     "output_type": "execute_result"
    }
   ],
   "source": [
    "df1.Label.value_counts()"
   ]
  },
  {
   "cell_type": "code",
   "execution_count": 200,
   "metadata": {},
   "outputs": [
    {
     "data": {
      "text/plain": [
       "Label\n",
       "1    226\n",
       "Name: count, dtype: int64"
      ]
     },
     "execution_count": 200,
     "metadata": {},
     "output_type": "execute_result"
    }
   ],
   "source": [
    "df2.Label.value_counts()"
   ]
  },
  {
   "cell_type": "code",
   "execution_count": 201,
   "metadata": {},
   "outputs": [],
   "source": [
    "df2p=df1[df1['Label']==0]\n",
    "df2pp=df2p.sample(n=None, frac=226/3906, replace=False, weights=None, random_state=None, axis=0)\n",
    "df2=pd.concat([df2, df2pp])"
   ]
  },
  {
   "cell_type": "code",
   "execution_count": 202,
   "metadata": {},
   "outputs": [
    {
     "data": {
      "text/plain": [
       "Label\n",
       "1    226\n",
       "0    226\n",
       "Name: count, dtype: int64"
      ]
     },
     "execution_count": 202,
     "metadata": {},
     "output_type": "execute_result"
    }
   ],
   "source": [
    "df2.Label.value_counts()"
   ]
  },
  {
   "cell_type": "code",
   "execution_count": 203,
   "metadata": {},
   "outputs": [],
   "source": [
    "df = pd.concat([df1, df2], ignore_index=True)"
   ]
  },
  {
   "cell_type": "code",
   "execution_count": 204,
   "metadata": {},
   "outputs": [
    {
     "data": {
      "text/plain": [
       "0    4132\n",
       "1    4107\n",
       "Name: count, dtype: int64"
      ]
     },
     "execution_count": 204,
     "metadata": {},
     "output_type": "execute_result"
    }
   ],
   "source": [
    "X = df.drop(['Label'],axis=1) .values\n",
    "y = df.iloc[:, -1].values.reshape(-1,1)\n",
    "y=np.ravel(y)\n",
    "pd.Series(y).value_counts()"
   ]
  },
  {
   "cell_type": "markdown",
   "metadata": {},
   "source": [
    "### Feature engineering (IG, FCBF, and KPCA)"
   ]
  },
  {
   "cell_type": "markdown",
   "metadata": {},
   "source": [
    "#### Feature selection by information gain (IG)"
   ]
  },
  {
   "cell_type": "code",
   "execution_count": 205,
   "metadata": {},
   "outputs": [],
   "source": [
    "from sklearn.feature_selection import mutual_info_classif\n",
    "importances = mutual_info_classif(X, y)"
   ]
  },
  {
   "cell_type": "code",
   "execution_count": 206,
   "metadata": {},
   "outputs": [],
   "source": [
    "# calculate the sum of importance scores\n",
    "f_list = sorted(zip(map(lambda x: round(x, 4), importances), features), reverse=True)\n",
    "Sum = 0\n",
    "fs = []\n",
    "for i in range(0, len(f_list)):\n",
    "    Sum = Sum + f_list[i][0]\n",
    "    fs.append(f_list[i][1])"
   ]
  },
  {
   "cell_type": "code",
   "execution_count": 207,
   "metadata": {},
   "outputs": [],
   "source": [
    "# select the important features from top to bottom until the accumulated importance reaches 90%\n",
    "f_list2 = sorted(zip(map(lambda x: round(x, 4), importances/Sum), features), reverse=True)\n",
    "Sum2 = 0\n",
    "fs = []\n",
    "for i in range(0, len(f_list2)):\n",
    "    Sum2 = Sum2 + f_list2[i][0]\n",
    "    fs.append(f_list2[i][1])\n",
    "    if Sum2>=0.9:\n",
    "        break        "
   ]
  },
  {
   "cell_type": "code",
   "execution_count": 208,
   "metadata": {},
   "outputs": [],
   "source": [
    "X_fs = df[fs].values"
   ]
  },
  {
   "cell_type": "code",
   "execution_count": 209,
   "metadata": {},
   "outputs": [
    {
     "data": {
      "text/plain": [
       "(8239, 46)"
      ]
     },
     "execution_count": 209,
     "metadata": {},
     "output_type": "execute_result"
    }
   ],
   "source": [
    "X_fs.shape"
   ]
  },
  {
   "cell_type": "code",
   "execution_count": 210,
   "metadata": {},
   "outputs": [
    {
     "data": {
      "text/plain": [
       "array([[ 2.65864042, -0.66979874, -0.17425846, ..., -0.17364606,\n",
       "        -0.17351811, -0.33549031],\n",
       "       [ 2.54677716, -0.67726588, -0.17425846, ..., -0.17364606,\n",
       "        -0.17351811, -0.33549031],\n",
       "       [ 2.39804214, -0.62788091, -0.1741389 , ..., -0.17359824,\n",
       "        -0.1734703 , -0.33549031],\n",
       "       ...,\n",
       "       [-0.39882292, -0.67002501, -0.17103027, ..., -0.17235494,\n",
       "        -0.17332684,  0.16664237],\n",
       "       [ 2.88951438, -0.66951589, -0.17418672, ..., -0.17364606,\n",
       "        -0.17351811, -0.33549031],\n",
       "       [-0.42094598, -0.68428047, -0.17444976, ..., -0.17369388,\n",
       "        -0.17351811, -0.33549031]])"
      ]
     },
     "execution_count": 210,
     "metadata": {},
     "output_type": "execute_result"
    }
   ],
   "source": [
    "X_fs"
   ]
  },
  {
   "cell_type": "markdown",
   "metadata": {},
   "source": [
    "#### Feature selection by Fast Correlation Based Filter (FCBF)\n",
    "\n",
    "The module is imported from the GitHub repo: https://github.com/SantiagoEG/FCBF_module"
   ]
  },
  {
   "cell_type": "code",
   "execution_count": 211,
   "metadata": {},
   "outputs": [],
   "source": [
    "from FCBF_module import FCBF, FCBFK, FCBFiP, get_i\n",
    "fcbf = FCBFK(k = 20)\n",
    "#fcbf.fit(X_fs, y)"
   ]
  },
  {
   "cell_type": "code",
   "execution_count": 212,
   "metadata": {},
   "outputs": [],
   "source": [
    "X_fss = fcbf.fit_transform(X_fs,y)"
   ]
  },
  {
   "cell_type": "code",
   "execution_count": 213,
   "metadata": {},
   "outputs": [
    {
     "data": {
      "text/plain": [
       "(8239, 20)"
      ]
     },
     "execution_count": 213,
     "metadata": {},
     "output_type": "execute_result"
    }
   ],
   "source": [
    "X_fss.shape"
   ]
  },
  {
   "cell_type": "code",
   "execution_count": 214,
   "metadata": {},
   "outputs": [
    {
     "data": {
      "text/plain": [
       "array([[ 2.65864042, -0.66979874, -0.74034837, ..., -0.62059946,\n",
       "        -0.44524416, -0.70575055],\n",
       "       [ 2.54677716, -0.67726588, -0.74034837, ..., -0.62059946,\n",
       "        -0.44524416, -0.70575055],\n",
       "       [ 2.39804214, -0.62788091, -0.68103213, ..., -0.62059946,\n",
       "        -0.44338917, -0.62675152],\n",
       "       ...,\n",
       "       [-0.39882292, -0.67002501,  2.05325523, ...,  2.48403317,\n",
       "         4.32282362,  3.29942483],\n",
       "       [ 2.88951438, -0.66951589, -0.74034837, ..., -0.62059946,\n",
       "        -0.44524416, -0.70575055],\n",
       "       [-0.42094598, -0.68428047, -0.43994032, ..., -0.62059946,\n",
       "        -0.39891754, -0.310961  ]])"
      ]
     },
     "execution_count": 214,
     "metadata": {},
     "output_type": "execute_result"
    }
   ],
   "source": [
    "X_fss"
   ]
  },
  {
   "cell_type": "markdown",
   "metadata": {},
   "source": [
    "####  kernel principal component analysis (KPCA)"
   ]
  },
  {
   "cell_type": "code",
   "execution_count": 215,
   "metadata": {},
   "outputs": [],
   "source": [
    "from sklearn.decomposition import KernelPCA\n",
    "kpca = KernelPCA(n_components = 10, kernel = 'rbf')\n",
    "kpca.fit(X_fss, y)\n",
    "X_kpca = kpca.transform(X_fss)\n",
    "\n",
    "# from sklearn.decomposition import PCA\n",
    "# kpca = PCA(n_components = 10)\n",
    "# kpca.fit(X_fss, y)\n",
    "# X_kpca = kpca.transform(X_fss)"
   ]
  },
  {
   "cell_type": "markdown",
   "metadata": {},
   "source": [
    "### Train-test split after feature selection"
   ]
  },
  {
   "cell_type": "code",
   "execution_count": 216,
   "metadata": {},
   "outputs": [],
   "source": [
    "X_train = X_kpca[:len(df1)]\n",
    "y_train = y[:len(df1)]\n",
    "X_test = X_kpca[len(df1):]\n",
    "y_test = y[len(df1):]"
   ]
  },
  {
   "cell_type": "markdown",
   "metadata": {},
   "source": [
    "### Solve class-imbalance by SMOTE"
   ]
  },
  {
   "cell_type": "code",
   "execution_count": 217,
   "metadata": {},
   "outputs": [
    {
     "data": {
      "text/plain": [
       "0    3906\n",
       "1    3881\n",
       "Name: count, dtype: int64"
      ]
     },
     "execution_count": 217,
     "metadata": {},
     "output_type": "execute_result"
    }
   ],
   "source": [
    "pd.Series(y_train).value_counts()"
   ]
  },
  {
   "cell_type": "markdown",
   "metadata": {},
   "source": []
  },
  {
   "cell_type": "code",
   "execution_count": 226,
   "metadata": {},
   "outputs": [],
   "source": [
    "from imblearn.over_sampling import SMOTE\n",
    "smote=SMOTE(n_jobs=-1,sampling_strategy={1:3906})\n",
    "X_train, y_train = smote.fit_resample(X_train, y_train)"
   ]
  },
  {
   "cell_type": "code",
   "execution_count": 227,
   "metadata": {},
   "outputs": [
    {
     "data": {
      "text/plain": [
       "0    3906\n",
       "1    3906\n",
       "Name: count, dtype: int64"
      ]
     },
     "execution_count": 227,
     "metadata": {},
     "output_type": "execute_result"
    }
   ],
   "source": [
    "pd.Series(y_train).value_counts()"
   ]
  },
  {
   "cell_type": "code",
   "execution_count": 228,
   "metadata": {},
   "outputs": [
    {
     "data": {
      "text/plain": [
       "1    226\n",
       "0    226\n",
       "Name: count, dtype: int64"
      ]
     },
     "execution_count": 228,
     "metadata": {},
     "output_type": "execute_result"
    }
   ],
   "source": [
    "pd.Series(y_test).value_counts()"
   ]
  },
  {
   "cell_type": "markdown",
   "metadata": {},
   "source": [
    "### Apply the cluster labeling (CL) k-means method"
   ]
  },
  {
   "cell_type": "code",
   "execution_count": 229,
   "metadata": {},
   "outputs": [],
   "source": [
    "from sklearn.cluster import KMeans\n",
    "from sklearn.cluster import DBSCAN,MeanShift\n",
    "from sklearn.cluster import SpectralClustering,AgglomerativeClustering,AffinityPropagation,Birch,MiniBatchKMeans,MeanShift \n",
    "from sklearn.mixture import GaussianMixture, BayesianGaussianMixture\n",
    "from sklearn.metrics import classification_report\n",
    "from sklearn import metrics"
   ]
  },
  {
   "cell_type": "code",
   "execution_count": 230,
   "metadata": {},
   "outputs": [],
   "source": [
    "def CL_kmeans(X_train, X_test, y_train, y_test,n,b=100):\n",
    "    km_cluster = MiniBatchKMeans(n_clusters=n,batch_size=b)\n",
    "    result = km_cluster.fit_predict(X_train)\n",
    "    result2 = km_cluster.predict(X_test)\n",
    "\n",
    "    count=0\n",
    "    a=np.zeros(n)\n",
    "    b=np.zeros(n)\n",
    "    for v in range(0,n):\n",
    "        for i in range(0,len(y_train)):\n",
    "            if result[i]==v:\n",
    "                if y_train[i]==1:\n",
    "                    a[v]=a[v]+1\n",
    "                else:\n",
    "                    b[v]=b[v]+1\n",
    "    list1=[]\n",
    "    list2=[]\n",
    "    for v in range(0,n):\n",
    "        if a[v]<=b[v]:\n",
    "            list1.append(v)\n",
    "        else: \n",
    "            list2.append(v)\n",
    "    for v in range(0,len(y_test)):\n",
    "        if result2[v] in list1:\n",
    "            result2[v]=0\n",
    "        elif result2[v] in list2:\n",
    "            result2[v]=1\n",
    "        else:\n",
    "            print(\"-1\")\n",
    "    print(classification_report(y_test, result2))\n",
    "    cm=confusion_matrix(y_test,result2)\n",
    "    acc=metrics.accuracy_score(y_test,result2)\n",
    "    print(str(acc))\n",
    "    print(cm)"
   ]
  },
  {
   "cell_type": "code",
   "execution_count": 231,
   "metadata": {},
   "outputs": [
    {
     "name": "stdout",
     "output_type": "stream",
     "text": [
      "              precision    recall  f1-score   support\n",
      "\n",
      "           0       1.00      0.73      0.84       226\n",
      "           1       0.79      1.00      0.88       226\n",
      "\n",
      "    accuracy                           0.87       452\n",
      "   macro avg       0.89      0.87      0.86       452\n",
      "weighted avg       0.89      0.87      0.86       452\n",
      "\n",
      "0.8650442477876106\n",
      "[[165  61]\n",
      " [  0 226]]\n"
     ]
    }
   ],
   "source": [
    "CL_kmeans(X_train, X_test, y_train, y_test, 8)"
   ]
  },
  {
   "cell_type": "markdown",
   "metadata": {},
   "source": [
    "### Hyperparameter optimization of CL-k-means\n",
    "Tune \"k\""
   ]
  },
  {
   "cell_type": "code",
   "execution_count": 232,
   "metadata": {},
   "outputs": [
    {
     "name": "stdout",
     "output_type": "stream",
     "text": [
      "30 0.4446902654867257\n",
      "43 0.7212389380530974\n",
      "43 0.9845132743362832\n",
      "43 0.7146017699115044\n",
      "32 0.7190265486725663\n",
      "20 0.7146017699115044\n",
      "16 0.7013274336283186\n",
      "5 0.672566371681416\n",
      "15 0.9004424778761062\n",
      "25 0.9358407079646017\n",
      "2 0.5663716814159292\n",
      "42 0.46238938053097345\n",
      "50 0.9734513274336283\n",
      "18 0.7079646017699115\n",
      "8 0.6460176991150443\n",
      "28 0.7212389380530974\n",
      "43 0.6858407079646017\n",
      "38 0.6814159292035398\n",
      "17 0.7035398230088495\n",
      "11 0.8584070796460177\n",
      "16.131787538528442\n",
      "Best score=0.9845\n",
      "Best parameters: n_clusters=43\n"
     ]
    }
   ],
   "source": [
    "#Hyperparameter optimization by BO-GP\n",
    "from skopt.space import Real, Integer\n",
    "from skopt.utils import use_named_args\n",
    "from sklearn import metrics\n",
    "\n",
    "space  = [Integer(2, 50, name='n_clusters')]\n",
    "@use_named_args(space)\n",
    "def objective(**params):\n",
    "    km_cluster = MiniBatchKMeans(batch_size=100, **params)\n",
    "    n=params['n_clusters']\n",
    "    \n",
    "    result = km_cluster.fit_predict(X_train)\n",
    "    result2 = km_cluster.predict(X_test)\n",
    "\n",
    "    count=0\n",
    "    a=np.zeros(n)\n",
    "    b=np.zeros(n)\n",
    "    for v in range(0,n):\n",
    "        for i in range(0,len(y_train)):\n",
    "            if result[i]==v:\n",
    "                if y_train[i]==1:\n",
    "                    a[v]=a[v]+1\n",
    "                else:\n",
    "                    b[v]=b[v]+1\n",
    "    list1=[]\n",
    "    list2=[]\n",
    "    for v in range(0,n):\n",
    "        if a[v]<=b[v]:\n",
    "            list1.append(v)\n",
    "        else: \n",
    "            list2.append(v)\n",
    "    for v in range(0,len(y_test)):\n",
    "        if result2[v] in list1:\n",
    "            result2[v]=0\n",
    "        elif result2[v] in list2:\n",
    "            result2[v]=1\n",
    "        else:\n",
    "            print(\"-1\")\n",
    "    cm=metrics.accuracy_score(y_test,result2)\n",
    "    print(str(n)+\" \"+str(cm))\n",
    "    return (1-cm)\n",
    "from skopt import gp_minimize\n",
    "import time\n",
    "t1=time.time()\n",
    "res_gp = gp_minimize(objective, space, n_calls=20, random_state=0)\n",
    "t2=time.time()\n",
    "print(t2-t1)\n",
    "print(\"Best score=%.4f\" % (1-res_gp.fun))\n",
    "print(\"\"\"Best parameters: n_clusters=%d\"\"\" % (res_gp.x[0]))"
   ]
  },
  {
   "cell_type": "code",
   "execution_count": 233,
   "metadata": {},
   "outputs": [
    {
     "name": "stdout",
     "output_type": "stream",
     "text": [
      "  0%|          | 0/20 [00:00<?, ?trial/s, best loss=?]"
     ]
    },
    {
     "name": "stdout",
     "output_type": "stream",
     "text": [
      "32 0.7013274336283186                                 \n",
      "22 0.7168141592920354                                                           \n",
      "28 0.7256637168141593                                                           \n",
      "4 0.6017699115044248                                                            \n",
      "18 0.9004424778761062                                                           \n",
      "17 0.6858407079646017                                                           \n",
      "24 0.6769911504424779                                                           \n",
      "18 0.7212389380530974                                                           \n",
      "16 0.6946902654867256                                                           \n",
      "31 0.5                                                                          \n",
      "26 0.7123893805309734                                                            \n",
      "28 0.9314159292035398                                                            \n",
      "12 0.8075221238938053                                                             \n",
      "40 0.7256637168141593                                                             \n",
      "10 0.8230088495575221                                                             \n",
      "46 0.6814159292035398                                                             \n",
      "14 0.6814159292035398                                                             \n",
      "2 0.5663716814159292                                                              \n",
      "28 0.7234513274336283                                                             \n",
      "27 0.7190265486725663                                                             \n",
      "100%|██████████| 20/20 [00:07<00:00,  2.79trial/s, best loss: 0.06858407079646023]\n",
      "Random Forest: Hyperopt estimated optimum {'n_clusters': 28.0}\n"
     ]
    }
   ],
   "source": [
    "#Hyperparameter optimization by BO-TPE\n",
    "from hyperopt import hp, fmin, tpe, STATUS_OK, Trials\n",
    "from sklearn.model_selection import cross_val_score, StratifiedKFold\n",
    "from sklearn.cluster import MiniBatchKMeans\n",
    "from sklearn import metrics\n",
    "\n",
    "def objective(params):\n",
    "    params = {\n",
    "        'n_clusters': int(params['n_clusters']), \n",
    "    }\n",
    "    km_cluster = MiniBatchKMeans(batch_size=100, **params)\n",
    "    n=params['n_clusters']\n",
    "    \n",
    "    result = km_cluster.fit_predict(X_train)\n",
    "    result2 = km_cluster.predict(X_test)\n",
    "\n",
    "    count=0\n",
    "    a=np.zeros(n)\n",
    "    b=np.zeros(n)\n",
    "    for v in range(0,n):\n",
    "        for i in range(0,len(y_train)):\n",
    "            if result[i]==v:\n",
    "                if y_train[i]==1:\n",
    "                    a[v]=a[v]+1\n",
    "                else:\n",
    "                    b[v]=b[v]+1\n",
    "    list1=[]\n",
    "    list2=[]\n",
    "    for v in range(0,n):\n",
    "        if a[v]<=b[v]:\n",
    "            list1.append(v)\n",
    "        else: \n",
    "            list2.append(v)\n",
    "    for v in range(0,len(y_test)):\n",
    "        if result2[v] in list1:\n",
    "            result2[v]=0\n",
    "        elif result2[v] in list2:\n",
    "            result2[v]=1\n",
    "        else:\n",
    "            print(\"-1\")\n",
    "    score=metrics.accuracy_score(y_test,result2)\n",
    "    print(str(params['n_clusters'])+\" \"+str(score))\n",
    "    return {'loss':1-score, 'status': STATUS_OK }\n",
    "space = {\n",
    "    'n_clusters': hp.quniform('n_clusters', 2, 50, 1),\n",
    "}\n",
    "\n",
    "best = fmin(fn=objective,\n",
    "            space=space,\n",
    "            algo=tpe.suggest,\n",
    "            max_evals=20)\n",
    "print(\"Random Forest: Hyperopt estimated optimum {}\".format(best))"
   ]
  },
  {
   "cell_type": "code",
   "execution_count": 234,
   "metadata": {},
   "outputs": [
    {
     "name": "stdout",
     "output_type": "stream",
     "text": [
      "Kết quả với BO-GP n_clusters=43\n",
      "              precision    recall  f1-score   support\n",
      "\n",
      "           0       0.65      0.99      0.79       226\n",
      "           1       0.98      0.47      0.63       226\n",
      "\n",
      "    accuracy                           0.73       452\n",
      "   macro avg       0.82      0.73      0.71       452\n",
      "weighted avg       0.82      0.73      0.71       452\n",
      "\n",
      "0.7300884955752213\n",
      "[[224   2]\n",
      " [120 106]]\n"
     ]
    }
   ],
   "source": [
    "# Từ BO-GP\n",
    "print(\"Kết quả với BO-GP n_clusters=43\")\n",
    "CL_kmeans(X_train, X_test, y_train, y_test, n=43)"
   ]
  },
  {
   "cell_type": "code",
   "execution_count": 235,
   "metadata": {},
   "outputs": [
    {
     "name": "stdout",
     "output_type": "stream",
     "text": [
      "Kết quả với BO-TPE n_clusters=28\n"
     ]
    },
    {
     "name": "stdout",
     "output_type": "stream",
     "text": [
      "              precision    recall  f1-score   support\n",
      "\n",
      "           0       0.65      0.98      0.78       226\n",
      "           1       0.95      0.46      0.62       226\n",
      "\n",
      "    accuracy                           0.72       452\n",
      "   macro avg       0.80      0.72      0.70       452\n",
      "weighted avg       0.80      0.72      0.70       452\n",
      "\n",
      "0.7212389380530974\n",
      "[[221   5]\n",
      " [121 105]]\n"
     ]
    }
   ],
   "source": [
    "# Từ BO-TPE\n",
    "print(\"Kết quả với BO-TPE n_clusters=28\")\n",
    "CL_kmeans(X_train, X_test, y_train, y_test, n=28)"
   ]
  },
  {
   "cell_type": "markdown",
   "metadata": {},
   "source": [
    "### Apply the CL-k-means model with biased classifiers"
   ]
  },
  {
   "cell_type": "code",
   "execution_count": 102,
   "metadata": {},
   "outputs": [],
   "source": [
    "# Only a sample code to show the logic. It needs to work on the entire dataset to generate sufficient training samples for biased classifiers\n",
    "def Anomaly_IDS(X_train, X_test, y_train, y_test,n,b=100):\n",
    "    # CL-kmeans\n",
    "    km_cluster = MiniBatchKMeans(n_clusters=n,batch_size=b)\n",
    "    result = km_cluster.fit_predict(X_train)\n",
    "    result2 = km_cluster.predict(X_test)\n",
    "\n",
    "    count=0\n",
    "    a=np.zeros(n)\n",
    "    b=np.zeros(n)\n",
    "    for v in range(0,n):\n",
    "        for i in range(0,len(y_train)):\n",
    "            if result[i]==v:\n",
    "                if y_train[i]==1:\n",
    "                    a[v]=a[v]+1\n",
    "                else:\n",
    "                    b[v]=b[v]+1\n",
    "    list1=[]\n",
    "    list2=[]\n",
    "    for v in range(0,n):\n",
    "        if a[v]<=b[v]:\n",
    "            list1.append(v)\n",
    "        else: \n",
    "            list2.append(v)\n",
    "    for v in range(0,len(y_test)):\n",
    "        if result2[v] in list1:\n",
    "            result2[v]=0\n",
    "        elif result2[v] in list2:\n",
    "            result2[v]=1\n",
    "        else:\n",
    "            print(\"-1\")\n",
    "    print(classification_report(y_test, result2))\n",
    "    cm=confusion_matrix(y_test,result2)\n",
    "    acc=metrics.accuracy_score(y2,result2)\n",
    "    print(str(acc))\n",
    "    print(cm)\n",
    "    \n",
    "    #Biased classifier construction\n",
    "    count=0\n",
    "    print(len(y))\n",
    "    a=np.zeros(n)\n",
    "    b=np.zeros(n)\n",
    "    FNL=[]\n",
    "    FPL=[]\n",
    "    for v in range(0,n):\n",
    "        al=[]\n",
    "        bl=[]\n",
    "        for i in range(0,len(y)):   \n",
    "            if result[i]==v:        \n",
    "                if y[i]==1:        #label 1\n",
    "                    a[v]=a[v]+1\n",
    "                    al.append(i)\n",
    "                else:             #label 0\n",
    "                    b[v]=b[v]+1\n",
    "                    bl.append(i)\n",
    "        if a[v]<=b[v]:\n",
    "            FNL.extend(al)\n",
    "        else:\n",
    "            FPL.extend(bl)\n",
    "        #print(str(v)+\"=\"+str(a[v]/(a[v]+b[v])))\n",
    "        \n",
    "    dffp=df.iloc[FPL, :]\n",
    "    dffn=df.iloc[FNL, :]\n",
    "    dfva0=df[df['Label']==0]\n",
    "    dfva1=df[df['Label']==1]\n",
    "    \n",
    "    dffpp=dfva1.sample(n=None, frac=len(FPL)/dfva1.shape[0], replace=False, weights=None, random_state=None, axis=0)\n",
    "    dffnp=dfva0.sample(n=None, frac=len(FNL)/dfva0.shape[0], replace=False, weights=None, random_state=None, axis=0)\n",
    "    \n",
    "    dffp_f=pd.concat([dffp, dffpp])\n",
    "    dffn_f=pd.concat([dffn, dffnp])\n",
    "    \n",
    "    Xp = dffp_f.drop(['Label'],axis=1)  \n",
    "    yp = dffp_f.iloc[:, -1].values.reshape(-1,1)\n",
    "    yp=np.ravel(yp)\n",
    "\n",
    "    Xn = dffn_f.drop(['Label'],axis=1)  \n",
    "    yn = dffn_f.iloc[:, -1].values.reshape(-1,1)\n",
    "    yn=np.ravel(yn)\n",
    "    \n",
    "    rfp = RandomForestClassifier(random_state = 0)\n",
    "    rfp.fit(Xp,yp)\n",
    "    rfn = RandomForestClassifier(random_state = 0)\n",
    "    rfn.fit(Xn,yn)\n",
    "\n",
    "    dffnn_f=pd.concat([dffn, dffnp])\n",
    "    \n",
    "    Xnn = dffn_f.drop(['Label'],axis=1)  \n",
    "    ynn = dffn_f.iloc[:, -1].values.reshape(-1,1)\n",
    "    ynn=np.ravel(ynn)\n",
    "\n",
    "    rfnn = RandomForestClassifier(random_state = 0)\n",
    "    rfnn.fit(Xnn,ynn)\n",
    "\n",
    "    X2p = df2.drop(['Label'],axis=1) \n",
    "    y2p = df2.iloc[:, -1].values.reshape(-1,1)\n",
    "    y2p=np.ravel(y2p)\n",
    "\n",
    "    result2 = km_cluster.predict(X2p)\n",
    "\n",
    "    count=0\n",
    "    a=np.zeros(n)\n",
    "    b=np.zeros(n)\n",
    "    for v in range(0,n):\n",
    "        for i in range(0,len(y)):\n",
    "            if result[i]==v:\n",
    "                if y[i]==1:\n",
    "                    a[v]=a[v]+1\n",
    "                else:\n",
    "                    b[v]=b[v]+1\n",
    "    list1=[]\n",
    "    list2=[]\n",
    "    l1=[]\n",
    "    l0=[]\n",
    "    for v in range(0,n):\n",
    "        if a[v]<=b[v]:\n",
    "            list1.append(v)\n",
    "        else: \n",
    "            list2.append(v)\n",
    "    for v in range(0,len(y2p)):\n",
    "        if result2[v] in list1:\n",
    "            result2[v]=0\n",
    "            l0.append(v)\n",
    "        elif result2[v] in list2:\n",
    "            result2[v]=1\n",
    "            l1.append(v)\n",
    "        else:\n",
    "            print(\"-1\")\n",
    "    print(classification_report(y2p, result2))\n",
    "    cm=confusion_matrix(y2p,result2)\n",
    "    print(cm)"
   ]
  }
 ],
 "metadata": {
  "kernelspec": {
   "display_name": "Python 3",
   "language": "python",
   "name": "python3"
  },
  "language_info": {
   "codemirror_mode": {
    "name": "ipython",
    "version": 3
   },
   "file_extension": ".py",
   "mimetype": "text/x-python",
   "name": "python",
   "nbconvert_exporter": "python",
   "pygments_lexer": "ipython3",
   "version": "3.12.7"
  }
 },
 "nbformat": 4,
 "nbformat_minor": 2
}
